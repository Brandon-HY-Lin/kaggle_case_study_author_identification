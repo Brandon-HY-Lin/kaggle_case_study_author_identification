{
 "cells": [
  {
   "cell_type": "markdown",
   "metadata": {},
   "source": [
    "# Train using Word Embedding, Dense Layer, and Keras\n",
    "Reference: https://www.kaggle.com/nzw0301/simple-keras-fasttext-val-loss-0-31/notebook  "
   ]
  },
  {
   "cell_type": "code",
   "execution_count": 1,
   "metadata": {},
   "outputs": [
    {
     "name": "stderr",
     "output_type": "stream",
     "text": [
      "Using TensorFlow backend.\n"
     ]
    },
    {
     "name": "stdout",
     "output_type": "stream",
     "text": [
      "Requirement already satisfied: en_core_web_sm==2.1.0 from https://github.com/explosion/spacy-models/releases/download/en_core_web_sm-2.1.0/en_core_web_sm-2.1.0.tar.gz#egg=en_core_web_sm==2.1.0 in /home/ec2-user/anaconda3/lib/python3.7/site-packages (2.1.0)\n",
      "\u001b[38;5;2m✔ Download and installation successful\u001b[0m\n",
      "You can now load the model via spacy.load('en_core_web_sm')\n",
      "\u001b[2K\u001b[38;5;2m✔ Loaded compatibility table\u001b[0m\n",
      "\u001b[1m\n",
      "====================== Installed models (spaCy v2.1.4) ======================\u001b[0m\n",
      "\u001b[38;5;4mℹ spaCy installation:\n",
      "/home/ec2-user/anaconda3/lib/python3.7/site-packages/spacy\u001b[0m\n",
      "\n",
      "TYPE      NAME             MODEL            VERSION                            \n",
      "package   en-core-web-sm   en_core_web_sm   \u001b[38;5;2m2.1.0\u001b[0m   \u001b[38;5;2m✔\u001b[0m\n",
      "\n"
     ]
    }
   ],
   "source": [
    "import pandas as pd\n",
    "import numpy as np\n",
    "from multiprocessing import cpu_count\n",
    "\n",
    "import keras\n",
    "\n",
    "import spacy\n",
    "\n",
    "!python -m spacy download en_core_web_sm\n",
    "!python -m spacy validate"
   ]
  },
  {
   "cell_type": "markdown",
   "metadata": {},
   "source": [
    "# Read Data Set"
   ]
  },
  {
   "cell_type": "code",
   "execution_count": 2,
   "metadata": {},
   "outputs": [
    {
     "data": {
      "text/html": [
       "<div>\n",
       "<style scoped>\n",
       "    .dataframe tbody tr th:only-of-type {\n",
       "        vertical-align: middle;\n",
       "    }\n",
       "\n",
       "    .dataframe tbody tr th {\n",
       "        vertical-align: top;\n",
       "    }\n",
       "\n",
       "    .dataframe thead th {\n",
       "        text-align: right;\n",
       "    }\n",
       "</style>\n",
       "<table border=\"1\" class=\"dataframe\">\n",
       "  <thead>\n",
       "    <tr style=\"text-align: right;\">\n",
       "      <th></th>\n",
       "      <th>id</th>\n",
       "      <th>text</th>\n",
       "      <th>author</th>\n",
       "    </tr>\n",
       "  </thead>\n",
       "  <tbody>\n",
       "    <tr>\n",
       "      <th>0</th>\n",
       "      <td>id26305</td>\n",
       "      <td>This process, however, afforded me no means of...</td>\n",
       "      <td>EAP</td>\n",
       "    </tr>\n",
       "    <tr>\n",
       "      <th>1</th>\n",
       "      <td>id17569</td>\n",
       "      <td>It never once occurred to me that the fumbling...</td>\n",
       "      <td>HPL</td>\n",
       "    </tr>\n",
       "    <tr>\n",
       "      <th>2</th>\n",
       "      <td>id11008</td>\n",
       "      <td>In his left hand was a gold snuff box, from wh...</td>\n",
       "      <td>EAP</td>\n",
       "    </tr>\n",
       "    <tr>\n",
       "      <th>3</th>\n",
       "      <td>id27763</td>\n",
       "      <td>How lovely is spring As we looked from Windsor...</td>\n",
       "      <td>MWS</td>\n",
       "    </tr>\n",
       "    <tr>\n",
       "      <th>4</th>\n",
       "      <td>id12958</td>\n",
       "      <td>Finding nothing else, not even gold, the Super...</td>\n",
       "      <td>HPL</td>\n",
       "    </tr>\n",
       "  </tbody>\n",
       "</table>\n",
       "</div>"
      ],
      "text/plain": [
       "        id                                               text author\n",
       "0  id26305  This process, however, afforded me no means of...    EAP\n",
       "1  id17569  It never once occurred to me that the fumbling...    HPL\n",
       "2  id11008  In his left hand was a gold snuff box, from wh...    EAP\n",
       "3  id27763  How lovely is spring As we looked from Windsor...    MWS\n",
       "4  id12958  Finding nothing else, not even gold, the Super...    HPL"
      ]
     },
     "execution_count": 2,
     "metadata": {},
     "output_type": "execute_result"
    }
   ],
   "source": [
    "filename_dataset = './datasets/train.csv'\n",
    "df = pd.read_csv(filename_dataset)\n",
    "\n",
    "df.head()"
   ]
  },
  {
   "cell_type": "code",
   "execution_count": 3,
   "metadata": {},
   "outputs": [
    {
     "data": {
      "text/plain": [
       "0    0\n",
       "1    1\n",
       "2    0\n",
       "3    2\n",
       "4    1\n",
       "Name: author, dtype: int64"
      ]
     },
     "execution_count": 3,
     "metadata": {},
     "output_type": "execute_result"
    }
   ],
   "source": [
    "y = df['author'].map({'EAP':0, 'HPL':1, 'MWS':2})\n",
    "y.head()"
   ]
  },
  {
   "cell_type": "code",
   "execution_count": 4,
   "metadata": {},
   "outputs": [],
   "source": [
    "y = keras.utils.to_categorical(y)"
   ]
  },
  {
   "cell_type": "code",
   "execution_count": 5,
   "metadata": {},
   "outputs": [
    {
     "data": {
      "text/plain": [
       "(19579, 3)"
      ]
     },
     "execution_count": 5,
     "metadata": {},
     "output_type": "execute_result"
    }
   ],
   "source": [
    "y.shape"
   ]
  },
  {
   "cell_type": "code",
   "execution_count": 6,
   "metadata": {},
   "outputs": [
    {
     "data": {
      "text/plain": [
       "array([[1., 0., 0.],\n",
       "       [0., 1., 0.],\n",
       "       [1., 0., 0.],\n",
       "       [0., 0., 1.],\n",
       "       [0., 1., 0.]], dtype=float32)"
      ]
     },
     "execution_count": 6,
     "metadata": {},
     "output_type": "execute_result"
    }
   ],
   "source": [
    "y[:5]"
   ]
  },
  {
   "cell_type": "markdown",
   "metadata": {},
   "source": [
    "# Preprocessing\n",
    "### Low-frequency words\n",
    "In my experience, fastText is very fast, but I need to delete rare words to avoid overfitting.\n",
    "\n",
    "##### NOTE: Some keywords are rare words, such like Cthulhu in Cthulhu Mythos of Howard Phillips Lovecraft. But these are useful for this task.\n",
    "\n",
    "### Removing Stopwords\n",
    "Nothing. To identify author from a sentence, some stopwords play an important role because one has specific usages of them.\n",
    "\n",
    "### Stemming and Lowercase\n",
    "Nothing. This reason is the same for stopwords removing. And I guess some stemming rules provided by libraries is bad for this task because all author is the older author.\n",
    "\n",
    "### Cutting long sentence\n",
    "Too long documents are cut.\n",
    "\n",
    "### Punctuation\n",
    "Because I guess each author has unique punctuations's usage in the novel, I separate them from words.\n",
    "\n",
    "e.g. Don't worry -> Don ' t worry"
   ]
  },
  {
   "cell_type": "code",
   "execution_count": 7,
   "metadata": {},
   "outputs": [
    {
     "data": {
      "text/plain": [
       "[]"
      ]
     },
     "execution_count": 7,
     "metadata": {},
     "output_type": "execute_result"
    }
   ],
   "source": [
    "nlp = spacy.load('en_core_web_sm', disable=['ner', 'parser', 'tagger'])\n",
    "nlp.pipeline"
   ]
  },
  {
   "cell_type": "markdown",
   "metadata": {},
   "source": [
    "# Define Function to Insert White Spaces around Punctuations"
   ]
  },
  {
   "cell_type": "code",
   "execution_count": 8,
   "metadata": {},
   "outputs": [],
   "source": [
    "def brief_cleaning(raw_docs):\n",
    "    \"\"\"\n",
    "    Normalize the docs and insert white spaces around each puncutation\n",
    "    \"\"\"\n",
    "    punctuations = set(',.:;\\\"?!')\n",
    "    \n",
    "    for doc in raw_docs:\n",
    "        doc = doc.lower()\n",
    "        doc = doc.replace('\\'', ' \\' ')\n",
    "        \n",
    "        intersections = set(doc).intersection(punctuations)\n",
    "        \n",
    "        if not intersections:\n",
    "            yield doc\n",
    "        else:\n",
    "            # insert white spaces around punctuations\n",
    "            for punct in intersections:\n",
    "                doc = doc.replace(punct, ' {} '.format(punct))\n",
    "                \n",
    "            yield doc\n",
    "            \n",
    "\n",
    "def preprocess(doc_spacy):\n",
    "    \"\"\"\n",
    "    Lemmatize\n",
    "    \n",
    "    Args:\n",
    "        doc_spacy (spacy.tokens.doc.Doc):\n",
    "    \"\"\"\n",
    "    \n",
    "    return [token.lemma_ for token in doc_spacy if not token.is_space]"
   ]
  },
  {
   "cell_type": "code",
   "execution_count": 9,
   "metadata": {},
   "outputs": [
    {
     "name": "stdout",
     "output_type": "stream",
     "text": [
      "This process, however, afforded me no means of ascertaining the dimensions of my dungeon; as I might make its circuit, and return to the point whence I set out, without being aware of the fact; so perfectly uniform seemed the wall.\n"
     ]
    }
   ],
   "source": [
    "text = df['text'][0]\n",
    "print(text)"
   ]
  },
  {
   "cell_type": "code",
   "execution_count": 10,
   "metadata": {},
   "outputs": [
    {
     "name": "stdout",
     "output_type": "stream",
     "text": [
      "{';', '.', ','}\n",
      "This process ,  however ,  afforded me no means of ascertaining the dimensions of my dungeon ;  as I might make its circuit ,  and return to the point whence I set out ,  without being aware of the fact ;  so perfectly uniform seemed the wall . \n"
     ]
    }
   ],
   "source": [
    "text.lower().replace('\\'', ' \\' ')\n",
    "\n",
    "punctuations = set(',.:;\\\"?!')\n",
    "intersections = set(text).intersection(punctuations)\n",
    "\n",
    "print(intersections)\n",
    "\n",
    "if not intersections:\n",
    "    print('do nothing')\n",
    "else:\n",
    "    for punct in intersections:\n",
    "        text = text.replace(punct, ' {} '.format(punct))\n",
    "    \n",
    "print(text)"
   ]
  },
  {
   "cell_type": "code",
   "execution_count": 11,
   "metadata": {
    "scrolled": true
   },
   "outputs": [
    {
     "name": "stdout",
     "output_type": "stream",
     "text": [
      "['This', 'process', ',', 'however', ',', 'afford', 'me', 'no', 'mean', 'of', 'ascertain', 'the', 'dimension', 'of', 'my', 'dungeon', ';', 'a', 'I', 'may', 'make', 'its', 'circuit', ',', 'and', 'return', 'to', 'the', 'point', 'whence', 'I', 'set', 'out', ',', 'without', 'be', 'aware', 'of', 'the', 'fact', ';', 'so', 'perfectly', 'uniform', 'seem', 'the', 'wall', '.']\n"
     ]
    }
   ],
   "source": [
    "print([token.lemma_ for token in nlp(text) if not token.is_space])"
   ]
  },
  {
   "cell_type": "markdown",
   "metadata": {},
   "source": [
    "# Start Preprocessing"
   ]
  },
  {
   "cell_type": "code",
   "execution_count": 12,
   "metadata": {},
   "outputs": [
    {
     "name": "stdout",
     "output_type": "stream",
     "text": [
      "CPU times: user 8.45 s, sys: 52 ms, total: 8.51 s\n",
      "Wall time: 8.54 s\n"
     ]
    }
   ],
   "source": [
    "%time docs = [preprocess(doc) for doc in nlp.pipe(brief_cleaning(df['text']), batch_size=100, n_threads=cpu_count())]"
   ]
  },
  {
   "cell_type": "code",
   "execution_count": 13,
   "metadata": {},
   "outputs": [
    {
     "data": {
      "text/plain": [
       "19579"
      ]
     },
     "execution_count": 13,
     "metadata": {},
     "output_type": "execute_result"
    }
   ],
   "source": [
    "len(docs)"
   ]
  },
  {
   "cell_type": "code",
   "execution_count": 14,
   "metadata": {},
   "outputs": [
    {
     "name": "stdout",
     "output_type": "stream",
     "text": [
      "['this', 'process', ',', 'however', ',', 'afford', 'me', 'no', 'mean', 'of', 'ascertain', 'the', 'dimension', 'of', 'my', 'dungeon', ';', 'a', 'i', 'may', 'make', 'its', 'circuit', ',', 'and', 'return', 'to', 'the', 'point', 'whence', 'i', 'set', 'out', ',', 'without', 'be', 'aware', 'of', 'the', 'fact', ';', 'so', 'perfectly', 'uniform', 'seem', 'the', 'wall', '.']\n"
     ]
    }
   ],
   "source": [
    "print(docs[0])"
   ]
  },
  {
   "cell_type": "code",
   "execution_count": 15,
   "metadata": {},
   "outputs": [
    {
     "data": {
      "text/plain": [
       "['\\ufeff1', 'of', 'all', 'i', 'dismember', 'the', 'corpse', '.']"
      ]
     },
     "execution_count": 15,
     "metadata": {},
     "output_type": "execute_result"
    }
   ],
   "source": [
    "np.max(docs)"
   ]
  },
  {
   "cell_type": "markdown",
   "metadata": {},
   "source": [
    "# Create Dictionary"
   ]
  },
  {
   "cell_type": "code",
   "execution_count": 16,
   "metadata": {},
   "outputs": [],
   "source": [
    "tokenizer = keras.preprocessing.text.Tokenizer(filters='')"
   ]
  },
  {
   "cell_type": "code",
   "execution_count": 17,
   "metadata": {},
   "outputs": [],
   "source": [
    "# tokenizer.fit_on_texts([token for doc in docs[:2] for token in doc])\n",
    "tokenizer.fit_on_texts(docs)"
   ]
  },
  {
   "cell_type": "code",
   "execution_count": 18,
   "metadata": {},
   "outputs": [
    {
     "data": {
      "text/plain": [
       "18048"
      ]
     },
     "execution_count": 18,
     "metadata": {},
     "output_type": "execute_result"
    }
   ],
   "source": [
    "len(tokenizer.word_counts)"
   ]
  },
  {
   "cell_type": "code",
   "execution_count": null,
   "metadata": {},
   "outputs": [],
   "source": []
  },
  {
   "cell_type": "code",
   "execution_count": 19,
   "metadata": {},
   "outputs": [
    {
     "name": "stdout",
     "output_type": "stream",
     "text": [
      "['this', 'process', ',', 'however', ',', 'afford', 'me', 'no', 'mean', 'of', 'ascertain', 'the', 'dimension', 'of', 'my', 'dungeon', ';', 'a', 'i', 'may', 'make', 'its', 'circuit', ',', 'and', 'return', 'to', 'the', 'point', 'whence', 'i', 'set', 'out', ',', 'without', 'be', 'aware', 'of', 'the', 'fact', ';', 'so', 'perfectly', 'uniform', 'seem', 'the', 'wall', '.']\n"
     ]
    }
   ],
   "source": [
    "print(docs[0])"
   ]
  },
  {
   "cell_type": "code",
   "execution_count": 20,
   "metadata": {},
   "outputs": [
    {
     "name": "stdout",
     "output_type": "stream",
     "text": [
      "[[23, 2200, 1, 151, 1, 646, 27, 38, 170, 3, 1508, 2, 1851, 3, 13, 3312, 14, 7, 9, 58, 64, 49, 3699, 1, 5, 175, 8, 2, 188, 1930, 9, 299, 86, 1, 145, 6, 1009, 3, 2, 303, 14, 40, 1509, 4228, 94, 2, 232, 4], [16, 107, 134, 592, 8, 27, 12, 2, 3700, 58, 6, 7, 449, 889, 4]]\n"
     ]
    }
   ],
   "source": [
    "print(tokenizer.texts_to_sequences(docs[0:2]))"
   ]
  },
  {
   "cell_type": "code",
   "execution_count": 21,
   "metadata": {},
   "outputs": [
    {
     "data": {
      "text/plain": [
       "'this'"
      ]
     },
     "execution_count": 21,
     "metadata": {},
     "output_type": "execute_result"
    }
   ],
   "source": [
    "tokenizer.index_word[23]"
   ]
  },
  {
   "cell_type": "code",
   "execution_count": 22,
   "metadata": {},
   "outputs": [
    {
     "data": {
      "text/plain": [
       "'process'"
      ]
     },
     "execution_count": 22,
     "metadata": {},
     "output_type": "execute_result"
    }
   ],
   "source": [
    "tokenizer.index_word[2200]"
   ]
  },
  {
   "cell_type": "markdown",
   "metadata": {},
   "source": [
    "# Encode the Train Dataset"
   ]
  },
  {
   "cell_type": "code",
   "execution_count": 23,
   "metadata": {},
   "outputs": [],
   "source": [
    "docs_encoded = tokenizer.texts_to_sequences(docs)"
   ]
  },
  {
   "cell_type": "code",
   "execution_count": 24,
   "metadata": {},
   "outputs": [
    {
     "data": {
      "text/plain": [
       "list"
      ]
     },
     "execution_count": 24,
     "metadata": {},
     "output_type": "execute_result"
    }
   ],
   "source": [
    "type(docs_encoded)"
   ]
  },
  {
   "cell_type": "code",
   "execution_count": 25,
   "metadata": {},
   "outputs": [
    {
     "data": {
      "text/plain": [
       "19579"
      ]
     },
     "execution_count": 25,
     "metadata": {},
     "output_type": "execute_result"
    }
   ],
   "source": [
    "len(docs_encoded)"
   ]
  },
  {
   "cell_type": "code",
   "execution_count": 26,
   "metadata": {},
   "outputs": [],
   "source": [
    "seq_length = 256\n",
    "docs_encoded = keras.preprocessing.sequence.pad_sequences(sequences=docs_encoded, \n",
    "                                                          maxlen=seq_length,\n",
    "                                                          dtype='int32',\n",
    "                                                         padding='post',\n",
    "                                                         value=0)"
   ]
  },
  {
   "cell_type": "code",
   "execution_count": 27,
   "metadata": {},
   "outputs": [
    {
     "data": {
      "text/plain": [
       "numpy.ndarray"
      ]
     },
     "execution_count": 27,
     "metadata": {},
     "output_type": "execute_result"
    }
   ],
   "source": [
    "type(docs_encoded)"
   ]
  },
  {
   "cell_type": "code",
   "execution_count": 28,
   "metadata": {},
   "outputs": [
    {
     "data": {
      "text/plain": [
       "(19579, 256)"
      ]
     },
     "execution_count": 28,
     "metadata": {},
     "output_type": "execute_result"
    }
   ],
   "source": [
    "docs_encoded.shape"
   ]
  },
  {
   "cell_type": "code",
   "execution_count": 29,
   "metadata": {},
   "outputs": [
    {
     "data": {
      "text/plain": [
       "array([[  23, 2200,    1,  151,    1,  646,   27,   38,  170,    3, 1508,\n",
       "           2, 1851,    3,   13, 3312,   14,    7,    9,   58,   64,   49,\n",
       "        3699,    1,    5,  175,    8,    2,  188, 1930],\n",
       "       [  16,  107,  134,  592,    8,   27,   12,    2, 3700,   58,    6,\n",
       "           7,  449,  889,    4,    0,    0,    0,    0,    0,    0,    0,\n",
       "           0,    0,    0,    0,    0,    0,    0,    0]], dtype=int32)"
      ]
     },
     "execution_count": 29,
     "metadata": {},
     "output_type": "execute_result"
    }
   ],
   "source": [
    "docs_encoded[:2, :30]"
   ]
  },
  {
   "cell_type": "markdown",
   "metadata": {},
   "source": [
    "# Define DNN Model"
   ]
  },
  {
   "cell_type": "code",
   "execution_count": 30,
   "metadata": {},
   "outputs": [
    {
     "name": "stderr",
     "output_type": "stream",
     "text": [
      "WARNING: Logging before flag parsing goes to stderr.\n",
      "W0716 01:54:06.121537 140095028594368 deprecation_wrapper.py:119] From /home/ec2-user/anaconda3/lib/python3.7/site-packages/keras/backend/tensorflow_backend.py:74: The name tf.get_default_graph is deprecated. Please use tf.compat.v1.get_default_graph instead.\n",
      "\n",
      "W0716 01:54:06.138678 140095028594368 deprecation_wrapper.py:119] From /home/ec2-user/anaconda3/lib/python3.7/site-packages/keras/backend/tensorflow_backend.py:517: The name tf.placeholder is deprecated. Please use tf.compat.v1.placeholder instead.\n",
      "\n",
      "W0716 01:54:06.144138 140095028594368 deprecation_wrapper.py:119] From /home/ec2-user/anaconda3/lib/python3.7/site-packages/keras/backend/tensorflow_backend.py:4138: The name tf.random_uniform is deprecated. Please use tf.random.uniform instead.\n",
      "\n",
      "W0716 01:54:06.178609 140095028594368 deprecation_wrapper.py:119] From /home/ec2-user/anaconda3/lib/python3.7/site-packages/keras/optimizers.py:790: The name tf.train.Optimizer is deprecated. Please use tf.compat.v1.train.Optimizer instead.\n",
      "\n",
      "W0716 01:54:06.185073 140095028594368 deprecation_wrapper.py:119] From /home/ec2-user/anaconda3/lib/python3.7/site-packages/keras/backend/tensorflow_backend.py:3295: The name tf.log is deprecated. Please use tf.math.log instead.\n",
      "\n"
     ]
    },
    {
     "name": "stdout",
     "output_type": "stream",
     "text": [
      "_________________________________________________________________\n",
      "Layer (type)                 Output Shape              Param #   \n",
      "=================================================================\n",
      "input_1 (InputLayer)         (None, 256)               0         \n",
      "_________________________________________________________________\n",
      "embedding_1 (Embedding)      (None, 256, 128)          2310272   \n",
      "_________________________________________________________________\n",
      "global_average_pooling1d_1 ( (None, 128)               0         \n",
      "_________________________________________________________________\n",
      "dense_1 (Dense)              (None, 3)                 387       \n",
      "_________________________________________________________________\n",
      "activation_1 (Activation)    (None, 3)                 0         \n",
      "=================================================================\n",
      "Total params: 2,310,659\n",
      "Trainable params: 2,310,659\n",
      "Non-trainable params: 0\n",
      "_________________________________________________________________\n"
     ]
    }
   ],
   "source": [
    "def create_model(input_dim, vocab_size, embedding_size=128, output_dim=3, lr=1e-3):\n",
    "    \n",
    "    # Input shape does not include batch_size: (None, seq_length)\n",
    "    inputs = keras.layers.Input(input_dim[1:])\n",
    "    \n",
    "    x_embed = keras.layers.Embedding(input_dim=vocab_size, output_dim=embedding_size)(inputs)\n",
    "    \n",
    "    x_avg = keras.layers.GlobalAveragePooling1D()(x_embed)\n",
    "    \n",
    "    x_fc1 = keras.layers.Dense(output_dim)(x_avg)\n",
    "    \n",
    "    outputs = keras.layers.Activation('softmax')(x_fc1)\n",
    "    \n",
    "    model = keras.models.Model(inputs=inputs, outputs=outputs)\n",
    "    \n",
    "    optimizer = keras.optimizers.Adam(lr=lr)\n",
    "    \n",
    "    model.compile(loss='categorical_crossentropy',\n",
    "                 optimizer=optimizer,\n",
    "                 metrics=['accuracy'])\n",
    "    return model\n",
    "\n",
    "\n",
    "# Vocab size includes zero-padding\n",
    "vocab_size = len(tokenizer.word_counts) + 1 \n",
    "input_dim = docs_encoded.shape\n",
    "\n",
    "model = create_model(input_dim=input_dim, vocab_size=vocab_size, embedding_size=128)\n",
    "\n",
    "model.summary()"
   ]
  },
  {
   "cell_type": "code",
   "execution_count": 31,
   "metadata": {
    "scrolled": false
   },
   "outputs": [
    {
     "name": "stderr",
     "output_type": "stream",
     "text": [
      "W0716 01:54:06.286807 140095028594368 deprecation.py:323] From /home/ec2-user/anaconda3/lib/python3.7/site-packages/tensorflow/python/ops/math_grad.py:1250: add_dispatch_support.<locals>.wrapper (from tensorflow.python.ops.array_ops) is deprecated and will be removed in a future version.\n",
      "Instructions for updating:\n",
      "Use tf.where in 2.0, which has the same broadcast rule as np.where\n",
      "W0716 01:54:06.350580 140095028594368 deprecation_wrapper.py:119] From /home/ec2-user/anaconda3/lib/python3.7/site-packages/keras/backend/tensorflow_backend.py:986: The name tf.assign_add is deprecated. Please use tf.compat.v1.assign_add instead.\n",
      "\n"
     ]
    },
    {
     "name": "stdout",
     "output_type": "stream",
     "text": [
      "Epoch 1/100\n",
      "19579/19579 [==============================] - 5s 280us/step - loss: 1.0805 - acc: 0.4033\n",
      "Epoch 2/100\n",
      "19579/19579 [==============================] - 5s 265us/step - loss: 1.0423 - acc: 0.4300\n",
      "Epoch 3/100\n",
      "19579/19579 [==============================] - 5s 258us/step - loss: 0.9552 - acc: 0.5726\n",
      "Epoch 4/100\n",
      "19579/19579 [==============================] - 5s 259us/step - loss: 0.8433 - acc: 0.7049\n",
      "Epoch 5/100\n",
      "19579/19579 [==============================] - 5s 255us/step - loss: 0.7420 - acc: 0.7543\n",
      "Epoch 6/100\n",
      "19579/19579 [==============================] - 5s 251us/step - loss: 0.6630 - acc: 0.7825\n",
      "Epoch 7/100\n",
      "19579/19579 [==============================] - 5s 252us/step - loss: 0.6004 - acc: 0.8031\n",
      "Epoch 8/100\n",
      "19579/19579 [==============================] - 5s 250us/step - loss: 0.5501 - acc: 0.8188\n",
      "Epoch 9/100\n",
      "19579/19579 [==============================] - 5s 250us/step - loss: 0.5082 - acc: 0.8317\n",
      "Epoch 10/100\n",
      "19579/19579 [==============================] - 5s 267us/step - loss: 0.4726 - acc: 0.8461\n",
      "Epoch 11/100\n",
      "19579/19579 [==============================] - 5s 260us/step - loss: 0.4423 - acc: 0.8546\n",
      "Epoch 12/100\n",
      "19579/19579 [==============================] - 5s 253us/step - loss: 0.4153 - acc: 0.8643\n",
      "Epoch 13/100\n",
      "19579/19579 [==============================] - 5s 255us/step - loss: 0.3917 - acc: 0.8739\n",
      "Epoch 14/100\n",
      "19579/19579 [==============================] - 5s 249us/step - loss: 0.3704 - acc: 0.8804\n",
      "Epoch 15/100\n",
      "19579/19579 [==============================] - 5s 242us/step - loss: 0.3508 - acc: 0.8877\n",
      "Epoch 16/100\n",
      "19579/19579 [==============================] - 5s 244us/step - loss: 0.3326 - acc: 0.8939\n",
      "Epoch 17/100\n",
      "19579/19579 [==============================] - 5s 248us/step - loss: 0.3171 - acc: 0.8992\n",
      "Epoch 18/100\n",
      "19579/19579 [==============================] - 5s 248us/step - loss: 0.3022 - acc: 0.9031\n",
      "Epoch 19/100\n",
      "19579/19579 [==============================] - 5s 244us/step - loss: 0.2887 - acc: 0.9073\n",
      "Epoch 20/100\n",
      "19579/19579 [==============================] - 5s 252us/step - loss: 0.2757 - acc: 0.9129\n",
      "Epoch 21/100\n",
      "19579/19579 [==============================] - 5s 249us/step - loss: 0.2640 - acc: 0.9167\n",
      "Epoch 22/100\n",
      "19579/19579 [==============================] - 5s 251us/step - loss: 0.2524 - acc: 0.9212\n",
      "Epoch 23/100\n",
      "19579/19579 [==============================] - 5s 247us/step - loss: 0.2434 - acc: 0.9228\n",
      "Epoch 24/100\n",
      "19579/19579 [==============================] - 5s 254us/step - loss: 0.2327 - acc: 0.9276\n",
      "Epoch 25/100\n",
      "19579/19579 [==============================] - 5s 246us/step - loss: 0.2246 - acc: 0.9289\n",
      "Epoch 26/100\n",
      "19579/19579 [==============================] - 5s 239us/step - loss: 0.2160 - acc: 0.9328\n",
      "Epoch 27/100\n",
      "19579/19579 [==============================] - 5s 248us/step - loss: 0.2070 - acc: 0.9364\n",
      "Epoch 28/100\n",
      "19579/19579 [==============================] - 5s 256us/step - loss: 0.2003 - acc: 0.9383\n",
      "Epoch 29/100\n",
      "19579/19579 [==============================] - 5s 246us/step - loss: 0.1933 - acc: 0.9392\n",
      "Epoch 30/100\n",
      "19579/19579 [==============================] - 5s 251us/step - loss: 0.1876 - acc: 0.9423\n",
      "Epoch 31/100\n",
      "19579/19579 [==============================] - 5s 245us/step - loss: 0.1802 - acc: 0.9443\n",
      "Epoch 32/100\n",
      "19579/19579 [==============================] - 5s 249us/step - loss: 0.1742 - acc: 0.9456\n",
      "Epoch 33/100\n",
      "19579/19579 [==============================] - 5s 245us/step - loss: 0.1685 - acc: 0.9473\n",
      "Epoch 34/100\n",
      "19579/19579 [==============================] - 5s 252us/step - loss: 0.1627 - acc: 0.9502\n",
      "Epoch 35/100\n",
      "19579/19579 [==============================] - 5s 255us/step - loss: 0.1577 - acc: 0.9516\n",
      "Epoch 36/100\n",
      "19579/19579 [==============================] - 5s 249us/step - loss: 0.1533 - acc: 0.9535\n",
      "Epoch 37/100\n",
      "19579/19579 [==============================] - 5s 253us/step - loss: 0.1491 - acc: 0.9551\n",
      "Epoch 38/100\n",
      "19579/19579 [==============================] - 5s 245us/step - loss: 0.1436 - acc: 0.9557\n",
      "Epoch 39/100\n",
      "19579/19579 [==============================] - 5s 254us/step - loss: 0.1394 - acc: 0.9578\n",
      "Epoch 40/100\n",
      "19579/19579 [==============================] - 5s 259us/step - loss: 0.1352 - acc: 0.9607\n",
      "Epoch 41/100\n",
      "19579/19579 [==============================] - 5s 253us/step - loss: 0.1307 - acc: 0.9612\n",
      "Epoch 42/100\n",
      "19579/19579 [==============================] - 5s 245us/step - loss: 0.1276 - acc: 0.9627\n",
      "Epoch 43/100\n",
      "19579/19579 [==============================] - 5s 240us/step - loss: 0.1239 - acc: 0.9626\n",
      "Epoch 44/100\n",
      "19579/19579 [==============================] - 5s 238us/step - loss: 0.1213 - acc: 0.9637\n",
      "Epoch 45/100\n",
      "19579/19579 [==============================] - 5s 241us/step - loss: 0.1165 - acc: 0.9666\n",
      "Epoch 46/100\n",
      "19579/19579 [==============================] - 5s 246us/step - loss: 0.1137 - acc: 0.9666\n",
      "Epoch 47/100\n",
      "19579/19579 [==============================] - 5s 244us/step - loss: 0.1101 - acc: 0.9684\n",
      "Epoch 48/100\n",
      "19579/19579 [==============================] - 5s 247us/step - loss: 0.1071 - acc: 0.9693\n",
      "Epoch 49/100\n",
      "19579/19579 [==============================] - 5s 243us/step - loss: 0.1054 - acc: 0.9695\n",
      "Epoch 50/100\n",
      "19579/19579 [==============================] - 5s 241us/step - loss: 0.1019 - acc: 0.9719\n",
      "Epoch 51/100\n",
      "19579/19579 [==============================] - 5s 247us/step - loss: 0.0993 - acc: 0.9716\n",
      "Epoch 52/100\n",
      "19579/19579 [==============================] - 5s 247us/step - loss: 0.0970 - acc: 0.9721\n",
      "Epoch 53/100\n",
      "19579/19579 [==============================] - 5s 248us/step - loss: 0.0935 - acc: 0.9737\n",
      "Epoch 54/100\n",
      "19579/19579 [==============================] - 5s 243us/step - loss: 0.0921 - acc: 0.9741\n",
      "Epoch 55/100\n",
      "19579/19579 [==============================] - 5s 240us/step - loss: 0.0905 - acc: 0.9747\n",
      "Epoch 56/100\n",
      "19579/19579 [==============================] - 5s 241us/step - loss: 0.0867 - acc: 0.9761\n",
      "Epoch 57/100\n",
      "19579/19579 [==============================] - 5s 242us/step - loss: 0.0853 - acc: 0.9763\n",
      "Epoch 58/100\n",
      "19579/19579 [==============================] - 5s 242us/step - loss: 0.0822 - acc: 0.9773\n",
      "Epoch 59/100\n",
      "19579/19579 [==============================] - 5s 240us/step - loss: 0.0805 - acc: 0.9778\n",
      "Epoch 60/100\n",
      "19579/19579 [==============================] - 5s 239us/step - loss: 0.0775 - acc: 0.9792\n",
      "Epoch 61/100\n",
      "19579/19579 [==============================] - 5s 242us/step - loss: 0.0767 - acc: 0.9793\n",
      "Epoch 62/100\n",
      "19579/19579 [==============================] - 5s 238us/step - loss: 0.0744 - acc: 0.9794\n",
      "Epoch 63/100\n",
      "19579/19579 [==============================] - 5s 239us/step - loss: 0.0723 - acc: 0.9814\n",
      "Epoch 64/100\n",
      "19579/19579 [==============================] - 5s 240us/step - loss: 0.0709 - acc: 0.9808\n",
      "Epoch 65/100\n",
      "19579/19579 [==============================] - 5s 239us/step - loss: 0.0693 - acc: 0.9804\n",
      "Epoch 66/100\n",
      "19579/19579 [==============================] - 5s 242us/step - loss: 0.0673 - acc: 0.9819\n",
      "Epoch 67/100\n",
      "19579/19579 [==============================] - 5s 242us/step - loss: 0.0659 - acc: 0.9817\n",
      "Epoch 68/100\n",
      "19579/19579 [==============================] - 5s 239us/step - loss: 0.0640 - acc: 0.9835\n",
      "Epoch 69/100\n",
      "19579/19579 [==============================] - 5s 239us/step - loss: 0.0632 - acc: 0.9833\n",
      "Epoch 70/100\n",
      "19579/19579 [==============================] - 5s 239us/step - loss: 0.0617 - acc: 0.9836\n",
      "Epoch 71/100\n",
      "19579/19579 [==============================] - 5s 241us/step - loss: 0.0607 - acc: 0.9840\n",
      "Epoch 72/100\n",
      "19579/19579 [==============================] - 5s 239us/step - loss: 0.0593 - acc: 0.9843\n",
      "Epoch 73/100\n",
      "19579/19579 [==============================] - 5s 238us/step - loss: 0.0571 - acc: 0.9850\n",
      "Epoch 74/100\n",
      "19579/19579 [==============================] - 5s 253us/step - loss: 0.0555 - acc: 0.9860\n",
      "Epoch 75/100\n",
      "19579/19579 [==============================] - 5s 245us/step - loss: 0.0557 - acc: 0.9854\n",
      "Epoch 76/100\n",
      "19579/19579 [==============================] - 5s 246us/step - loss: 0.0550 - acc: 0.9856\n",
      "Epoch 77/100\n",
      "19579/19579 [==============================] - 5s 251us/step - loss: 0.0520 - acc: 0.9866\n",
      "Epoch 78/100\n",
      "19579/19579 [==============================] - 5s 247us/step - loss: 0.0521 - acc: 0.9859\n",
      "Epoch 79/100\n",
      "19579/19579 [==============================] - 5s 255us/step - loss: 0.0493 - acc: 0.9879\n",
      "Epoch 80/100\n"
     ]
    },
    {
     "name": "stdout",
     "output_type": "stream",
     "text": [
      "19579/19579 [==============================] - 5s 251us/step - loss: 0.0488 - acc: 0.9878\n",
      "Epoch 81/100\n",
      "19579/19579 [==============================] - 5s 249us/step - loss: 0.0469 - acc: 0.9881\n",
      "Epoch 82/100\n",
      "19579/19579 [==============================] - 5s 253us/step - loss: 0.0471 - acc: 0.9886\n",
      "Epoch 83/100\n",
      "19579/19579 [==============================] - 5s 252us/step - loss: 0.0468 - acc: 0.9880\n",
      "Epoch 84/100\n",
      "19579/19579 [==============================] - 5s 252us/step - loss: 0.0452 - acc: 0.9879\n",
      "Epoch 85/100\n",
      "19579/19579 [==============================] - 5s 250us/step - loss: 0.0432 - acc: 0.9892\n",
      "Epoch 86/100\n",
      "19579/19579 [==============================] - 5s 248us/step - loss: 0.0425 - acc: 0.9894\n",
      "Epoch 87/100\n",
      "19579/19579 [==============================] - 5s 249us/step - loss: 0.0419 - acc: 0.9894\n",
      "Epoch 88/100\n",
      "19579/19579 [==============================] - 5s 252us/step - loss: 0.0421 - acc: 0.9892\n",
      "Epoch 89/100\n",
      "19579/19579 [==============================] - 5s 246us/step - loss: 0.0407 - acc: 0.9895\n",
      "Epoch 90/100\n",
      "19579/19579 [==============================] - 5s 252us/step - loss: 0.0391 - acc: 0.9900\n",
      "Epoch 91/100\n",
      "19579/19579 [==============================] - 5s 254us/step - loss: 0.0385 - acc: 0.9911\n",
      "Epoch 92/100\n",
      "19579/19579 [==============================] - 5s 249us/step - loss: 0.0381 - acc: 0.9911\n",
      "Epoch 93/100\n",
      "19579/19579 [==============================] - 5s 251us/step - loss: 0.0371 - acc: 0.9907\n",
      "Epoch 94/100\n",
      "19579/19579 [==============================] - 5s 247us/step - loss: 0.0359 - acc: 0.9913\n",
      "Epoch 95/100\n",
      "19579/19579 [==============================] - 5s 255us/step - loss: 0.0359 - acc: 0.9908\n",
      "Epoch 96/100\n",
      "19579/19579 [==============================] - 5s 260us/step - loss: 0.0349 - acc: 0.9914\n",
      "Epoch 97/100\n",
      "19579/19579 [==============================] - 5s 256us/step - loss: 0.0339 - acc: 0.9914\n",
      "Epoch 98/100\n",
      "19579/19579 [==============================] - 5s 248us/step - loss: 0.0338 - acc: 0.9914\n",
      "Epoch 99/100\n",
      "19579/19579 [==============================] - 5s 249us/step - loss: 0.0336 - acc: 0.9914\n",
      "Epoch 100/100\n",
      "19579/19579 [==============================] - 5s 243us/step - loss: 0.0327 - acc: 0.9916\n",
      "CPU times: user 13min 37s, sys: 41.6 s, total: 14min 19s\n",
      "Wall time: 8min 6s\n"
     ]
    },
    {
     "data": {
      "text/plain": [
       "<keras.callbacks.History at 0x7f6a16480748>"
      ]
     },
     "execution_count": 31,
     "metadata": {},
     "output_type": "execute_result"
    }
   ],
   "source": [
    "epochs=100\n",
    "%time model.fit(docs_encoded, y, batch_size=128, epochs=epochs, callbacks=[keras.callbacks.EarlyStopping(patience=2, monitor='loss')])"
   ]
  },
  {
   "cell_type": "markdown",
   "metadata": {},
   "source": [
    "# Define RNN Model"
   ]
  },
  {
   "cell_type": "code",
   "execution_count": 32,
   "metadata": {},
   "outputs": [
    {
     "name": "stdout",
     "output_type": "stream",
     "text": [
      "_________________________________________________________________\n",
      "Layer (type)                 Output Shape              Param #   \n",
      "=================================================================\n",
      "input_2 (InputLayer)         (None, 256)               0         \n",
      "_________________________________________________________________\n",
      "embedding_2 (Embedding)      (None, 256, 64)           1155136   \n",
      "_________________________________________________________________\n",
      "gru_1 (GRU)                  (None, 32)                9312      \n",
      "_________________________________________________________________\n",
      "dense_2 (Dense)              (None, 3)                 99        \n",
      "_________________________________________________________________\n",
      "activation_2 (Activation)    (None, 3)                 0         \n",
      "=================================================================\n",
      "Total params: 1,164,547\n",
      "Trainable params: 1,164,547\n",
      "Non-trainable params: 0\n",
      "_________________________________________________________________\n"
     ]
    }
   ],
   "source": [
    "def get_model(input_dim, vocab_size, embed_size=64, hidden_size=32, output_dim=3, lr=1e-3):\n",
    "\n",
    "    # input_dim = (None, seq_length, feature_size)\n",
    "    inputs = keras.layers.Input(input_dim[1:])\n",
    "    \n",
    "    x_embed = keras.layers.Embedding(input_dim=vocab_size, output_dim=embed_size)(inputs)\n",
    "    \n",
    "    x_rnn = keras.layers.GRU(units=hidden_size, return_sequences=False)(x_embed)\n",
    "    \n",
    "    x_fc1 = keras.layers.Dense(output_dim)(x_rnn)\n",
    "    \n",
    "    outputs = keras.layers.Activation('softmax')(x_fc1)\n",
    "    \n",
    "    model = keras.models.Model(inputs=inputs, outputs=outputs)\n",
    "    \n",
    "    optimizer = keras.optimizers.Adam(lr=lr)\n",
    "    \n",
    "    model.compile(loss='categorical_crossentropy',\n",
    "                 optimizer=optimizer,\n",
    "                 metrics=['accuracy'])\n",
    "    return model\n",
    "\n",
    "\n",
    "model = get_model(input_dim=input_dim, vocab_size=vocab_size)\n",
    "\n",
    "model.summary()"
   ]
  },
  {
   "cell_type": "code",
   "execution_count": 33,
   "metadata": {},
   "outputs": [
    {
     "name": "stdout",
     "output_type": "stream",
     "text": [
      "Epoch 1/5\n",
      "19579/19579 [==============================] - 25s 1ms/step - loss: 1.0883 - acc: 0.4023\n",
      "Epoch 2/5\n",
      "19579/19579 [==============================] - 25s 1ms/step - loss: 1.0878 - acc: 0.4036\n",
      "Epoch 3/5\n",
      "19579/19579 [==============================] - 25s 1ms/step - loss: 1.0884 - acc: 0.4036\n",
      "Epoch 4/5\n",
      "19579/19579 [==============================] - 25s 1ms/step - loss: 1.0878 - acc: 0.4037\n",
      "CPU times: user 3min 2s, sys: 5.68 s, total: 3min 8s\n",
      "Wall time: 1min 40s\n"
     ]
    },
    {
     "data": {
      "text/plain": [
       "<keras.callbacks.History at 0x7f6a167112b0>"
      ]
     },
     "execution_count": 33,
     "metadata": {},
     "output_type": "execute_result"
    }
   ],
   "source": [
    "epochs = 5\n",
    "\n",
    "%time model.fit(docs_encoded, y, batch_size=128, epochs=epochs, callbacks=[keras.callbacks.EarlyStopping(patience=2, monitor='loss')])"
   ]
  },
  {
   "cell_type": "markdown",
   "metadata": {},
   "source": [
    "# Define Bidirectional RNN Model"
   ]
  },
  {
   "cell_type": "code",
   "execution_count": 116,
   "metadata": {},
   "outputs": [
    {
     "name": "stdout",
     "output_type": "stream",
     "text": [
      "(19579, 256)\n"
     ]
    }
   ],
   "source": [
    "# Vocab size includes zero-padding\n",
    "vocab_size = len(tokenizer.word_counts) + 1 \n",
    "# docs_encoded = np.expand_dims(docs_encoded, axis=len(docs_encoded)-1)\n",
    "input_dim = docs_encoded.shape\n",
    "\n",
    "print(input_dim)"
   ]
  },
  {
   "cell_type": "code",
   "execution_count": 133,
   "metadata": {},
   "outputs": [
    {
     "name": "stdout",
     "output_type": "stream",
     "text": [
      "_________________________________________________________________\n",
      "Layer (type)                 Output Shape              Param #   \n",
      "=================================================================\n",
      "input_37 (InputLayer)        (None, 256)               0         \n",
      "_________________________________________________________________\n",
      "embedding_35 (Embedding)     (None, 256, 64)           1155136   \n",
      "_________________________________________________________________\n",
      "bidirectional_2 (Bidirection (None, 64)                18624     \n",
      "_________________________________________________________________\n",
      "dense_22 (Dense)             (None, 3)                 195       \n",
      "_________________________________________________________________\n",
      "activation_22 (Activation)   (None, 3)                 0         \n",
      "=================================================================\n",
      "Total params: 1,173,955\n",
      "Trainable params: 1,173,955\n",
      "Non-trainable params: 0\n",
      "_________________________________________________________________\n"
     ]
    }
   ],
   "source": [
    "def get_model(input_dim, vocab_size, embed_size=64, hidden_size=32, output_dim=3, lr=1e-3):\n",
    "\n",
    "    # input_dim = (None, seq_length, feature_size)\n",
    "    inputs = keras.layers.Input(input_dim[1:])\n",
    "    \n",
    "    x_embed = keras.layers.Embedding(input_dim=vocab_size, output_dim=embed_size)(inputs)\n",
    "    \n",
    "    x_rnn = keras.layers.Bidirectional(keras.layers.GRU(units=hidden_size, return_sequences=False))(x_embed)\n",
    "    \n",
    "    x_fc1 = keras.layers.Dense(output_dim)(x_rnn)\n",
    "    \n",
    "    outputs = keras.layers.Activation('softmax')(x_fc1)\n",
    "    \n",
    "    model = keras.models.Model(inputs=inputs, outputs=outputs)\n",
    "    \n",
    "    optimizer = keras.optimizers.Adam(lr=lr)\n",
    "    \n",
    "    model.compile(loss='categorical_crossentropy',\n",
    "                 optimizer=optimizer,\n",
    "                 metrics=['accuracy'])\n",
    "    return model\n",
    "\n",
    "\n",
    "model = get_model(input_dim=input_dim, vocab_size=vocab_size)\n",
    "\n",
    "model.summary()"
   ]
  },
  {
   "cell_type": "code",
   "execution_count": 134,
   "metadata": {
    "scrolled": true
   },
   "outputs": [
    {
     "name": "stdout",
     "output_type": "stream",
     "text": [
      "Epoch 1/20\n",
      "19579/19579 [==============================] - 57s 3ms/step - loss: 0.8966 - acc: 0.5582\n",
      "Epoch 2/20\n",
      "19579/19579 [==============================] - 55s 3ms/step - loss: 0.4156 - acc: 0.8383\n",
      "Epoch 3/20\n",
      "19579/19579 [==============================] - 55s 3ms/step - loss: 0.2267 - acc: 0.9169\n",
      "Epoch 4/20\n",
      "19579/19579 [==============================] - 55s 3ms/step - loss: 0.1514 - acc: 0.9468\n",
      "Epoch 5/20\n",
      "19579/19579 [==============================] - 55s 3ms/step - loss: 0.1114 - acc: 0.9621\n",
      "Epoch 6/20\n",
      "19579/19579 [==============================] - 55s 3ms/step - loss: 0.0883 - acc: 0.9698\n",
      "Epoch 7/20\n",
      "19579/19579 [==============================] - 54s 3ms/step - loss: 0.0850 - acc: 0.9697\n",
      "Epoch 8/20\n",
      "19579/19579 [==============================] - 55s 3ms/step - loss: 0.0595 - acc: 0.9800\n",
      "Epoch 9/20\n",
      "19579/19579 [==============================] - 55s 3ms/step - loss: 0.0485 - acc: 0.9846\n",
      "Epoch 10/20\n",
      "19579/19579 [==============================] - 55s 3ms/step - loss: 0.0437 - acc: 0.9868\n",
      "Epoch 11/20\n",
      "19579/19579 [==============================] - 55s 3ms/step - loss: 0.0441 - acc: 0.9855\n",
      "Epoch 12/20\n",
      "19579/19579 [==============================] - 55s 3ms/step - loss: 0.0379 - acc: 0.9875\n",
      "Epoch 13/20\n",
      "19579/19579 [==============================] - 55s 3ms/step - loss: 0.0410 - acc: 0.9858\n",
      "Epoch 14/20\n",
      "19579/19579 [==============================] - 55s 3ms/step - loss: 0.0376 - acc: 0.9885\n",
      "Epoch 15/20\n",
      "19579/19579 [==============================] - 55s 3ms/step - loss: 0.0304 - acc: 0.9902\n",
      "Epoch 16/20\n",
      "19579/19579 [==============================] - 55s 3ms/step - loss: 0.0269 - acc: 0.9915\n",
      "Epoch 17/20\n",
      "19579/19579 [==============================] - 55s 3ms/step - loss: 0.0240 - acc: 0.9919\n",
      "Epoch 18/20\n",
      "19579/19579 [==============================] - 55s 3ms/step - loss: 0.0209 - acc: 0.9939\n",
      "Epoch 19/20\n",
      "19579/19579 [==============================] - 55s 3ms/step - loss: 0.0153 - acc: 0.9956\n",
      "Epoch 20/20\n",
      "19579/19579 [==============================] - 55s 3ms/step - loss: 0.0325 - acc: 0.9892\n",
      "CPU times: user 35min 28s, sys: 15.5 s, total: 35min 43s\n",
      "Wall time: 18min 20s\n"
     ]
    },
    {
     "data": {
      "text/plain": [
       "<keras.callbacks.History at 0x7f9f187f5198>"
      ]
     },
     "execution_count": 134,
     "metadata": {},
     "output_type": "execute_result"
    }
   ],
   "source": [
    "epochs = 20\n",
    "\n",
    "%time model.fit(docs_encoded, y, batch_size=128, epochs=epochs, callbacks=[keras.callbacks.EarlyStopping(patience=2, monitor='loss')])"
   ]
  },
  {
   "cell_type": "code",
   "execution_count": null,
   "metadata": {},
   "outputs": [],
   "source": []
  }
 ],
 "metadata": {
  "kernelspec": {
   "display_name": "Python 3",
   "language": "python",
   "name": "python3"
  },
  "language_info": {
   "codemirror_mode": {
    "name": "ipython",
    "version": 3
   },
   "file_extension": ".py",
   "mimetype": "text/x-python",
   "name": "python",
   "nbconvert_exporter": "python",
   "pygments_lexer": "ipython3",
   "version": "3.7.3"
  }
 },
 "nbformat": 4,
 "nbformat_minor": 2
}
