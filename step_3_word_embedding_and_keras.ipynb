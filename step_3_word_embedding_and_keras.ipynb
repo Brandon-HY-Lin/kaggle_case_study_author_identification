{
 "cells": [
  {
   "cell_type": "markdown",
   "metadata": {},
   "source": [
    "# Train using Word Embedding, Dense Layer, and Keras\n",
    "Reference: https://www.kaggle.com/nzw0301/simple-keras-fasttext-val-loss-0-31/notebook  "
   ]
  },
  {
   "cell_type": "code",
   "execution_count": 23,
   "metadata": {},
   "outputs": [
    {
     "name": "stdout",
     "output_type": "stream",
     "text": [
      "Requirement already satisfied: en_core_web_sm==2.1.0 from https://github.com/explosion/spacy-models/releases/download/en_core_web_sm-2.1.0/en_core_web_sm-2.1.0.tar.gz#egg=en_core_web_sm==2.1.0 in /home/ec2-user/anaconda3/lib/python3.7/site-packages (2.1.0)\n",
      "\u001b[38;5;2m✔ Download and installation successful\u001b[0m\n",
      "You can now load the model via spacy.load('en_core_web_sm')\n",
      "\u001b[2K\u001b[38;5;2m✔ Loaded compatibility table\u001b[0m\n",
      "\u001b[1m\n",
      "====================== Installed models (spaCy v2.1.4) ======================\u001b[0m\n",
      "\u001b[38;5;4mℹ spaCy installation:\n",
      "/home/ec2-user/anaconda3/lib/python3.7/site-packages/spacy\u001b[0m\n",
      "\n",
      "TYPE      NAME             MODEL            VERSION                            \n",
      "package   en-core-web-sm   en_core_web_sm   \u001b[38;5;2m2.1.0\u001b[0m   \u001b[38;5;2m✔\u001b[0m\n",
      "\n"
     ]
    }
   ],
   "source": [
    "import pandas as pd\n",
    "import numpy as np\n",
    "from multiprocessing import cpu_count\n",
    "\n",
    "import keras\n",
    "\n",
    "import spacy\n",
    "\n",
    "!python -m spacy download en_core_web_sm\n",
    "!python -m spacy validate"
   ]
  },
  {
   "cell_type": "markdown",
   "metadata": {},
   "source": [
    "# Read Data Set"
   ]
  },
  {
   "cell_type": "code",
   "execution_count": 2,
   "metadata": {},
   "outputs": [
    {
     "data": {
      "text/html": [
       "<div>\n",
       "<style scoped>\n",
       "    .dataframe tbody tr th:only-of-type {\n",
       "        vertical-align: middle;\n",
       "    }\n",
       "\n",
       "    .dataframe tbody tr th {\n",
       "        vertical-align: top;\n",
       "    }\n",
       "\n",
       "    .dataframe thead th {\n",
       "        text-align: right;\n",
       "    }\n",
       "</style>\n",
       "<table border=\"1\" class=\"dataframe\">\n",
       "  <thead>\n",
       "    <tr style=\"text-align: right;\">\n",
       "      <th></th>\n",
       "      <th>id</th>\n",
       "      <th>text</th>\n",
       "      <th>author</th>\n",
       "    </tr>\n",
       "  </thead>\n",
       "  <tbody>\n",
       "    <tr>\n",
       "      <th>0</th>\n",
       "      <td>id26305</td>\n",
       "      <td>This process, however, afforded me no means of...</td>\n",
       "      <td>EAP</td>\n",
       "    </tr>\n",
       "    <tr>\n",
       "      <th>1</th>\n",
       "      <td>id17569</td>\n",
       "      <td>It never once occurred to me that the fumbling...</td>\n",
       "      <td>HPL</td>\n",
       "    </tr>\n",
       "    <tr>\n",
       "      <th>2</th>\n",
       "      <td>id11008</td>\n",
       "      <td>In his left hand was a gold snuff box, from wh...</td>\n",
       "      <td>EAP</td>\n",
       "    </tr>\n",
       "    <tr>\n",
       "      <th>3</th>\n",
       "      <td>id27763</td>\n",
       "      <td>How lovely is spring As we looked from Windsor...</td>\n",
       "      <td>MWS</td>\n",
       "    </tr>\n",
       "    <tr>\n",
       "      <th>4</th>\n",
       "      <td>id12958</td>\n",
       "      <td>Finding nothing else, not even gold, the Super...</td>\n",
       "      <td>HPL</td>\n",
       "    </tr>\n",
       "  </tbody>\n",
       "</table>\n",
       "</div>"
      ],
      "text/plain": [
       "        id                                               text author\n",
       "0  id26305  This process, however, afforded me no means of...    EAP\n",
       "1  id17569  It never once occurred to me that the fumbling...    HPL\n",
       "2  id11008  In his left hand was a gold snuff box, from wh...    EAP\n",
       "3  id27763  How lovely is spring As we looked from Windsor...    MWS\n",
       "4  id12958  Finding nothing else, not even gold, the Super...    HPL"
      ]
     },
     "execution_count": 2,
     "metadata": {},
     "output_type": "execute_result"
    }
   ],
   "source": [
    "filename_dataset = './datasets/train.csv'\n",
    "df = pd.read_csv(filename_dataset)\n",
    "\n",
    "df.head()"
   ]
  },
  {
   "cell_type": "code",
   "execution_count": 3,
   "metadata": {},
   "outputs": [
    {
     "data": {
      "text/plain": [
       "0    0\n",
       "1    1\n",
       "2    0\n",
       "3    2\n",
       "4    1\n",
       "Name: author, dtype: int64"
      ]
     },
     "execution_count": 3,
     "metadata": {},
     "output_type": "execute_result"
    }
   ],
   "source": [
    "y = df['author'].map({'EAP':0, 'HPL':1, 'MWS':2})\n",
    "y.head()"
   ]
  },
  {
   "cell_type": "code",
   "execution_count": 4,
   "metadata": {},
   "outputs": [],
   "source": [
    "y = keras.utils.to_categorical(y)"
   ]
  },
  {
   "cell_type": "code",
   "execution_count": 5,
   "metadata": {},
   "outputs": [
    {
     "data": {
      "text/plain": [
       "(19579, 3)"
      ]
     },
     "execution_count": 5,
     "metadata": {},
     "output_type": "execute_result"
    }
   ],
   "source": [
    "y.shape"
   ]
  },
  {
   "cell_type": "code",
   "execution_count": 6,
   "metadata": {},
   "outputs": [
    {
     "data": {
      "text/plain": [
       "array([[1., 0., 0.],\n",
       "       [0., 1., 0.],\n",
       "       [1., 0., 0.],\n",
       "       [0., 0., 1.],\n",
       "       [0., 1., 0.]], dtype=float32)"
      ]
     },
     "execution_count": 6,
     "metadata": {},
     "output_type": "execute_result"
    }
   ],
   "source": [
    "y[:5]"
   ]
  },
  {
   "cell_type": "markdown",
   "metadata": {},
   "source": [
    "# Preprocessing\n",
    "### Low-frequency words\n",
    "In my experience, fastText is very fast, but I need to delete rare words to avoid overfitting.\n",
    "\n",
    "##### NOTE: Some keywords are rare words, such like Cthulhu in Cthulhu Mythos of Howard Phillips Lovecraft. But these are useful for this task.\n",
    "\n",
    "### Removing Stopwords\n",
    "Nothing. To identify author from a sentence, some stopwords play an important role because one has specific usages of them.\n",
    "\n",
    "### Stemming and Lowercase\n",
    "Nothing. This reason is the same for stopwords removing. And I guess some stemming rules provided by libraries is bad for this task because all author is the older author.\n",
    "\n",
    "### Cutting long sentence\n",
    "Too long documents are cut.\n",
    "\n",
    "### Punctuation\n",
    "Because I guess each author has unique punctuations's usage in the novel, I separate them from words.\n",
    "\n",
    "e.g. Don't worry -> Don ' t worry"
   ]
  },
  {
   "cell_type": "code",
   "execution_count": 7,
   "metadata": {},
   "outputs": [
    {
     "data": {
      "text/plain": [
       "[]"
      ]
     },
     "execution_count": 7,
     "metadata": {},
     "output_type": "execute_result"
    }
   ],
   "source": [
    "nlp = spacy.load('en_core_web_sm', disable=['ner', 'parser', 'tagger'])\n",
    "nlp.pipeline"
   ]
  },
  {
   "cell_type": "markdown",
   "metadata": {},
   "source": [
    "# Define Function to Insert White Spaces around Punctuations"
   ]
  },
  {
   "cell_type": "code",
   "execution_count": 8,
   "metadata": {},
   "outputs": [],
   "source": [
    "def brief_cleaning(raw_docs):\n",
    "    \"\"\"\n",
    "    Normalize the docs and insert white spaces around each puncutation\n",
    "    \"\"\"\n",
    "    punctuations = set(',.:;\\\"?!')\n",
    "    \n",
    "    for doc in raw_docs:\n",
    "        doc = doc.lower()\n",
    "        doc = doc.replace('\\'', ' \\' ')\n",
    "        \n",
    "        intersections = set(doc).intersection(punctuations)\n",
    "        \n",
    "        if not intersections:\n",
    "            yield doc\n",
    "        else:\n",
    "            # insert white spaces around punctuations\n",
    "            for punct in intersections:\n",
    "                doc = doc.replace(punct, ' {} '.format(punct))\n",
    "                \n",
    "            yield doc\n",
    "            \n",
    "\n",
    "def preprocess(doc_spacy):\n",
    "    \"\"\"\n",
    "    Lemmatize\n",
    "    \n",
    "    Args:\n",
    "        doc_spacy (spacy.tokens.doc.Doc):\n",
    "    \"\"\"\n",
    "    \n",
    "    return [token.lemma_ for token in doc_spacy if not token.is_space]"
   ]
  },
  {
   "cell_type": "code",
   "execution_count": 9,
   "metadata": {},
   "outputs": [
    {
     "name": "stdout",
     "output_type": "stream",
     "text": [
      "This process, however, afforded me no means of ascertaining the dimensions of my dungeon; as I might make its circuit, and return to the point whence I set out, without being aware of the fact; so perfectly uniform seemed the wall.\n"
     ]
    }
   ],
   "source": [
    "text = df['text'][0]\n",
    "print(text)"
   ]
  },
  {
   "cell_type": "code",
   "execution_count": 10,
   "metadata": {},
   "outputs": [
    {
     "name": "stdout",
     "output_type": "stream",
     "text": [
      "{',', ';', '.'}\n",
      "This process ,  however ,  afforded me no means of ascertaining the dimensions of my dungeon ;  as I might make its circuit ,  and return to the point whence I set out ,  without being aware of the fact ;  so perfectly uniform seemed the wall . \n"
     ]
    }
   ],
   "source": [
    "text.lower().replace('\\'', ' \\' ')\n",
    "\n",
    "punctuations = set(',.:;\\\"?!')\n",
    "intersections = set(text).intersection(punctuations)\n",
    "\n",
    "print(intersections)\n",
    "\n",
    "if not intersections:\n",
    "    print('do nothing')\n",
    "else:\n",
    "    for punct in intersections:\n",
    "        text = text.replace(punct, ' {} '.format(punct))\n",
    "    \n",
    "print(text)"
   ]
  },
  {
   "cell_type": "code",
   "execution_count": 11,
   "metadata": {
    "scrolled": true
   },
   "outputs": [
    {
     "name": "stdout",
     "output_type": "stream",
     "text": [
      "['This', 'process', ',', 'however', ',', 'afford', 'me', 'no', 'mean', 'of', 'ascertain', 'the', 'dimension', 'of', 'my', 'dungeon', ';', 'a', 'I', 'may', 'make', 'its', 'circuit', ',', 'and', 'return', 'to', 'the', 'point', 'whence', 'I', 'set', 'out', ',', 'without', 'be', 'aware', 'of', 'the', 'fact', ';', 'so', 'perfectly', 'uniform', 'seem', 'the', 'wall', '.']\n"
     ]
    }
   ],
   "source": [
    "print([token.lemma_ for token in nlp(text) if not token.is_space])"
   ]
  },
  {
   "cell_type": "markdown",
   "metadata": {},
   "source": [
    "# Start Preprocessing"
   ]
  },
  {
   "cell_type": "code",
   "execution_count": 12,
   "metadata": {},
   "outputs": [
    {
     "name": "stdout",
     "output_type": "stream",
     "text": [
      "CPU times: user 8.53 s, sys: 33 ms, total: 8.56 s\n",
      "Wall time: 8.6 s\n"
     ]
    }
   ],
   "source": [
    "%time docs = [preprocess(doc) for doc in nlp.pipe(brief_cleaning(df['text']), batch_size=100, n_threads=cpu_count())]"
   ]
  },
  {
   "cell_type": "code",
   "execution_count": 13,
   "metadata": {},
   "outputs": [
    {
     "data": {
      "text/plain": [
       "19579"
      ]
     },
     "execution_count": 13,
     "metadata": {},
     "output_type": "execute_result"
    }
   ],
   "source": [
    "len(docs)"
   ]
  },
  {
   "cell_type": "code",
   "execution_count": 14,
   "metadata": {},
   "outputs": [
    {
     "name": "stdout",
     "output_type": "stream",
     "text": [
      "['this', 'process', ',', 'however', ',', 'afford', 'me', 'no', 'mean', 'of', 'ascertain', 'the', 'dimension', 'of', 'my', 'dungeon', ';', 'a', 'i', 'may', 'make', 'its', 'circuit', ',', 'and', 'return', 'to', 'the', 'point', 'whence', 'i', 'set', 'out', ',', 'without', 'be', 'aware', 'of', 'the', 'fact', ';', 'so', 'perfectly', 'uniform', 'seem', 'the', 'wall', '.']\n"
     ]
    }
   ],
   "source": [
    "print(docs[0])"
   ]
  },
  {
   "cell_type": "code",
   "execution_count": 24,
   "metadata": {},
   "outputs": [
    {
     "data": {
      "text/plain": [
       "['\\ufeff1', 'of', 'all', 'i', 'dismember', 'the', 'corpse', '.']"
      ]
     },
     "execution_count": 24,
     "metadata": {},
     "output_type": "execute_result"
    }
   ],
   "source": [
    "np.max(docs)"
   ]
  },
  {
   "cell_type": "markdown",
   "metadata": {},
   "source": [
    "# Create Dictionary"
   ]
  },
  {
   "cell_type": "code",
   "execution_count": 15,
   "metadata": {},
   "outputs": [],
   "source": [
    "tokenizer = keras.preprocessing.text.Tokenizer(filters='')"
   ]
  },
  {
   "cell_type": "code",
   "execution_count": 16,
   "metadata": {},
   "outputs": [],
   "source": [
    "# tokenizer.fit_on_texts([token for doc in docs[:2] for token in doc])\n",
    "tokenizer.fit_on_texts(docs)"
   ]
  },
  {
   "cell_type": "code",
   "execution_count": 22,
   "metadata": {},
   "outputs": [
    {
     "data": {
      "text/plain": [
       "18048"
      ]
     },
     "execution_count": 22,
     "metadata": {},
     "output_type": "execute_result"
    }
   ],
   "source": [
    "len(tokenizer.word_counts)"
   ]
  },
  {
   "cell_type": "code",
   "execution_count": null,
   "metadata": {},
   "outputs": [],
   "source": []
  },
  {
   "cell_type": "code",
   "execution_count": 17,
   "metadata": {},
   "outputs": [
    {
     "name": "stdout",
     "output_type": "stream",
     "text": [
      "['this', 'process', ',', 'however', ',', 'afford', 'me', 'no', 'mean', 'of', 'ascertain', 'the', 'dimension', 'of', 'my', 'dungeon', ';', 'a', 'i', 'may', 'make', 'its', 'circuit', ',', 'and', 'return', 'to', 'the', 'point', 'whence', 'i', 'set', 'out', ',', 'without', 'be', 'aware', 'of', 'the', 'fact', ';', 'so', 'perfectly', 'uniform', 'seem', 'the', 'wall', '.']\n"
     ]
    }
   ],
   "source": [
    "print(docs[0])"
   ]
  },
  {
   "cell_type": "code",
   "execution_count": 18,
   "metadata": {},
   "outputs": [
    {
     "name": "stdout",
     "output_type": "stream",
     "text": [
      "[[23, 2200, 1, 151, 1, 646, 27, 38, 170, 3, 1508, 2, 1851, 3, 13, 3312, 14, 7, 9, 58, 64, 49, 3699, 1, 5, 175, 8, 2, 188, 1930, 9, 299, 86, 1, 145, 6, 1009, 3, 2, 303, 14, 40, 1509, 4228, 94, 2, 232, 4], [16, 107, 134, 592, 8, 27, 12, 2, 3700, 58, 6, 7, 449, 889, 4]]\n"
     ]
    }
   ],
   "source": [
    "print(tokenizer.texts_to_sequences(docs[0:2]))"
   ]
  },
  {
   "cell_type": "code",
   "execution_count": 19,
   "metadata": {},
   "outputs": [
    {
     "data": {
      "text/plain": [
       "'this'"
      ]
     },
     "execution_count": 19,
     "metadata": {},
     "output_type": "execute_result"
    }
   ],
   "source": [
    "tokenizer.index_word[23]"
   ]
  },
  {
   "cell_type": "code",
   "execution_count": 20,
   "metadata": {},
   "outputs": [
    {
     "data": {
      "text/plain": [
       "'process'"
      ]
     },
     "execution_count": 20,
     "metadata": {},
     "output_type": "execute_result"
    }
   ],
   "source": [
    "tokenizer.index_word[2200]"
   ]
  },
  {
   "cell_type": "markdown",
   "metadata": {},
   "source": [
    "# Encode the Train Dataset"
   ]
  },
  {
   "cell_type": "code",
   "execution_count": 56,
   "metadata": {},
   "outputs": [],
   "source": [
    "docs_encoded = tokenizer.texts_to_sequences(docs)"
   ]
  },
  {
   "cell_type": "code",
   "execution_count": 57,
   "metadata": {},
   "outputs": [
    {
     "data": {
      "text/plain": [
       "list"
      ]
     },
     "execution_count": 57,
     "metadata": {},
     "output_type": "execute_result"
    }
   ],
   "source": [
    "type(docs_encoded)"
   ]
  },
  {
   "cell_type": "code",
   "execution_count": 58,
   "metadata": {},
   "outputs": [
    {
     "data": {
      "text/plain": [
       "19579"
      ]
     },
     "execution_count": 58,
     "metadata": {},
     "output_type": "execute_result"
    }
   ],
   "source": [
    "len(docs_encoded)"
   ]
  },
  {
   "cell_type": "code",
   "execution_count": 59,
   "metadata": {},
   "outputs": [],
   "source": [
    "seq_length = 256\n",
    "docs_encoded = keras.preprocessing.sequence.pad_sequences(sequences=docs_encoded, \n",
    "                                                          maxlen=seq_length,\n",
    "                                                          dtype='int32',\n",
    "                                                         padding='post',\n",
    "                                                         value=0)"
   ]
  },
  {
   "cell_type": "code",
   "execution_count": 60,
   "metadata": {},
   "outputs": [
    {
     "data": {
      "text/plain": [
       "numpy.ndarray"
      ]
     },
     "execution_count": 60,
     "metadata": {},
     "output_type": "execute_result"
    }
   ],
   "source": [
    "type(docs_encoded)"
   ]
  },
  {
   "cell_type": "code",
   "execution_count": 61,
   "metadata": {},
   "outputs": [
    {
     "data": {
      "text/plain": [
       "(19579, 256)"
      ]
     },
     "execution_count": 61,
     "metadata": {},
     "output_type": "execute_result"
    }
   ],
   "source": [
    "docs_encoded.shape"
   ]
  },
  {
   "cell_type": "code",
   "execution_count": 64,
   "metadata": {},
   "outputs": [
    {
     "data": {
      "text/plain": [
       "array([[  23, 2200,    1,  151,    1,  646,   27,   38,  170,    3, 1508,\n",
       "           2, 1851,    3,   13, 3312,   14,    7,    9,   58,   64,   49,\n",
       "        3699,    1,    5,  175,    8,    2,  188, 1930],\n",
       "       [  16,  107,  134,  592,    8,   27,   12,    2, 3700,   58,    6,\n",
       "           7,  449,  889,    4,    0,    0,    0,    0,    0,    0,    0,\n",
       "           0,    0,    0,    0,    0,    0,    0,    0]], dtype=int32)"
      ]
     },
     "execution_count": 64,
     "metadata": {},
     "output_type": "execute_result"
    }
   ],
   "source": [
    "docs_encoded[:2, :30]"
   ]
  },
  {
   "cell_type": "markdown",
   "metadata": {},
   "source": [
    "# Define DNN Model"
   ]
  },
  {
   "cell_type": "code",
   "execution_count": 74,
   "metadata": {},
   "outputs": [
    {
     "name": "stdout",
     "output_type": "stream",
     "text": [
      "_________________________________________________________________\n",
      "Layer (type)                 Output Shape              Param #   \n",
      "=================================================================\n",
      "input_5 (InputLayer)         (None, 256)               0         \n",
      "_________________________________________________________________\n",
      "embedding_5 (Embedding)      (None, 256, 128)          2310272   \n",
      "_________________________________________________________________\n",
      "global_average_pooling1d_5 ( (None, 128)               0         \n",
      "_________________________________________________________________\n",
      "dense_5 (Dense)              (None, 3)                 387       \n",
      "_________________________________________________________________\n",
      "activation_5 (Activation)    (None, 3)                 0         \n",
      "=================================================================\n",
      "Total params: 2,310,659\n",
      "Trainable params: 2,310,659\n",
      "Non-trainable params: 0\n",
      "_________________________________________________________________\n"
     ]
    }
   ],
   "source": [
    "def create_model(input_dim, vocab_size, embedding_size=128, output_dim=3, lr=1e-3):\n",
    "    \n",
    "    # Input shape does not include batch_size: (None, seq_length)\n",
    "    inputs = keras.layers.Input(input_dim[1:])\n",
    "    \n",
    "    x_embed = keras.layers.Embedding(input_dim=vocab_size, output_dim=embedding_size)(inputs)\n",
    "    \n",
    "    x_avg = keras.layers.GlobalAveragePooling1D()(x_embed)\n",
    "    \n",
    "    x_fc1 = keras.layers.Dense(output_dim)(x_avg)\n",
    "    \n",
    "    outputs = keras.layers.Activation('softmax')(x_fc1)\n",
    "    \n",
    "    model = keras.models.Model(inputs=inputs, outputs=outputs)\n",
    "    \n",
    "    optimizer = keras.optimizers.Adam(lr=lr)\n",
    "    \n",
    "    model.compile(loss='categorical_crossentropy',\n",
    "                 optimizer=optimizer,\n",
    "                 metrics=['accuracy'])\n",
    "    return model\n",
    "\n",
    "\n",
    "# Vocab size includes zero-padding\n",
    "vocab_size = len(tokenizer.word_counts) + 1 \n",
    "input_dim = docs_encoded.shape\n",
    "\n",
    "model = create_model(input_dim=input_dim, vocab_size=vocab_size, embedding_size=128)\n",
    "\n",
    "model.summary()"
   ]
  },
  {
   "cell_type": "code",
   "execution_count": 75,
   "metadata": {},
   "outputs": [
    {
     "name": "stdout",
     "output_type": "stream",
     "text": [
      "Epoch 1/100\n",
      "19579/19579 [==============================] - 5s 268us/step - loss: 1.0798 - acc: 0.4039\n",
      "Epoch 2/100\n",
      "19579/19579 [==============================] - 5s 253us/step - loss: 1.0384 - acc: 0.4351\n",
      "Epoch 3/100\n",
      "19579/19579 [==============================] - 5s 250us/step - loss: 0.9493 - acc: 0.5914\n",
      "Epoch 4/100\n",
      "19579/19579 [==============================] - 5s 246us/step - loss: 0.8369 - acc: 0.7141\n",
      "Epoch 5/100\n",
      "19579/19579 [==============================] - 5s 248us/step - loss: 0.7368 - acc: 0.7593\n",
      "Epoch 6/100\n",
      "19579/19579 [==============================] - 5s 246us/step - loss: 0.6586 - acc: 0.7852\n",
      "Epoch 7/100\n",
      "19579/19579 [==============================] - 5s 258us/step - loss: 0.5961 - acc: 0.8058\n",
      "Epoch 8/100\n",
      "19579/19579 [==============================] - 5s 258us/step - loss: 0.5463 - acc: 0.8191\n",
      "Epoch 9/100\n",
      "19579/19579 [==============================] - 5s 254us/step - loss: 0.5053 - acc: 0.8354\n",
      "Epoch 10/100\n",
      "19579/19579 [==============================] - 5s 257us/step - loss: 0.4707 - acc: 0.8427\n",
      "Epoch 11/100\n",
      "19579/19579 [==============================] - 5s 258us/step - loss: 0.4396 - acc: 0.8566\n",
      "Epoch 12/100\n",
      "19579/19579 [==============================] - 5s 244us/step - loss: 0.4133 - acc: 0.8641\n",
      "Epoch 13/100\n",
      "19579/19579 [==============================] - 5s 254us/step - loss: 0.3893 - acc: 0.8757\n",
      "Epoch 14/100\n",
      "19579/19579 [==============================] - 5s 243us/step - loss: 0.3670 - acc: 0.8818\n",
      "Epoch 15/100\n",
      "19579/19579 [==============================] - 5s 242us/step - loss: 0.3479 - acc: 0.8881\n",
      "Epoch 16/100\n",
      "19579/19579 [==============================] - 5s 254us/step - loss: 0.3308 - acc: 0.8954\n",
      "Epoch 17/100\n",
      "19579/19579 [==============================] - 5s 239us/step - loss: 0.3146 - acc: 0.9004\n",
      "Epoch 18/100\n",
      "19579/19579 [==============================] - 5s 231us/step - loss: 0.2991 - acc: 0.9053\n",
      "Epoch 19/100\n",
      "19579/19579 [==============================] - 5s 235us/step - loss: 0.2859 - acc: 0.9101\n",
      "Epoch 20/100\n",
      "19579/19579 [==============================] - 5s 232us/step - loss: 0.2736 - acc: 0.9136\n",
      "Epoch 21/100\n",
      "19579/19579 [==============================] - 5s 236us/step - loss: 0.2619 - acc: 0.9185\n",
      "Epoch 22/100\n",
      "19579/19579 [==============================] - 5s 258us/step - loss: 0.2510 - acc: 0.9208\n",
      "Epoch 23/100\n",
      "19579/19579 [==============================] - 5s 247us/step - loss: 0.2424 - acc: 0.9240\n",
      "Epoch 24/100\n",
      "19579/19579 [==============================] - 5s 261us/step - loss: 0.2315 - acc: 0.9262\n",
      "Epoch 25/100\n",
      "19579/19579 [==============================] - 5s 255us/step - loss: 0.2222 - acc: 0.9306\n",
      "Epoch 26/100\n",
      "19579/19579 [==============================] - 5s 246us/step - loss: 0.2147 - acc: 0.9338\n",
      "Epoch 27/100\n",
      "19579/19579 [==============================] - 5s 235us/step - loss: 0.2064 - acc: 0.9360\n",
      "Epoch 28/100\n",
      "19579/19579 [==============================] - 5s 238us/step - loss: 0.1991 - acc: 0.9373\n",
      "Epoch 29/100\n",
      "19579/19579 [==============================] - 5s 238us/step - loss: 0.1915 - acc: 0.9409\n",
      "Epoch 30/100\n",
      "19579/19579 [==============================] - 5s 233us/step - loss: 0.1856 - acc: 0.9418\n",
      "Epoch 31/100\n",
      "19579/19579 [==============================] - 5s 238us/step - loss: 0.1784 - acc: 0.9449\n",
      "Epoch 32/100\n",
      "19579/19579 [==============================] - 5s 237us/step - loss: 0.1729 - acc: 0.9468\n",
      "Epoch 33/100\n",
      "19579/19579 [==============================] - 5s 236us/step - loss: 0.1674 - acc: 0.9471\n",
      "Epoch 34/100\n",
      "19579/19579 [==============================] - 5s 242us/step - loss: 0.1615 - acc: 0.9506\n",
      "Epoch 35/100\n",
      "19579/19579 [==============================] - 5s 231us/step - loss: 0.1572 - acc: 0.9518\n",
      "Epoch 36/100\n",
      "19579/19579 [==============================] - 5s 243us/step - loss: 0.1527 - acc: 0.9537\n",
      "Epoch 37/100\n",
      "19579/19579 [==============================] - 5s 239us/step - loss: 0.1487 - acc: 0.9540\n",
      "Epoch 38/100\n",
      "19579/19579 [==============================] - 5s 239us/step - loss: 0.1428 - acc: 0.9564\n",
      "Epoch 39/100\n",
      "19579/19579 [==============================] - 5s 241us/step - loss: 0.1390 - acc: 0.9587\n",
      "Epoch 40/100\n",
      "19579/19579 [==============================] - 5s 255us/step - loss: 0.1343 - acc: 0.9593\n",
      "Epoch 41/100\n",
      "19579/19579 [==============================] - 5s 247us/step - loss: 0.1310 - acc: 0.9614\n",
      "Epoch 42/100\n",
      "19579/19579 [==============================] - 5s 251us/step - loss: 0.1268 - acc: 0.9626\n",
      "Epoch 43/100\n",
      "19579/19579 [==============================] - 5s 253us/step - loss: 0.1224 - acc: 0.9645\n",
      "Epoch 44/100\n",
      "19579/19579 [==============================] - 5s 256us/step - loss: 0.1191 - acc: 0.9656\n",
      "Epoch 45/100\n",
      "19579/19579 [==============================] - 5s 245us/step - loss: 0.1159 - acc: 0.9671\n",
      "Epoch 46/100\n",
      "19579/19579 [==============================] - 5s 252us/step - loss: 0.1129 - acc: 0.9681\n",
      "Epoch 47/100\n",
      "19579/19579 [==============================] - 5s 255us/step - loss: 0.1108 - acc: 0.9680\n",
      "Epoch 48/100\n",
      "19579/19579 [==============================] - 5s 253us/step - loss: 0.1065 - acc: 0.9701\n",
      "Epoch 49/100\n",
      "19579/19579 [==============================] - 5s 237us/step - loss: 0.1039 - acc: 0.9717\n",
      "Epoch 50/100\n",
      "19579/19579 [==============================] - 5s 235us/step - loss: 0.1012 - acc: 0.9718\n",
      "Epoch 51/100\n",
      "19579/19579 [==============================] - 5s 245us/step - loss: 0.0984 - acc: 0.9727\n",
      "Epoch 52/100\n",
      "19579/19579 [==============================] - 5s 257us/step - loss: 0.0953 - acc: 0.9737\n",
      "Epoch 53/100\n",
      "19579/19579 [==============================] - 5s 251us/step - loss: 0.0932 - acc: 0.9733\n",
      "Epoch 54/100\n",
      "19579/19579 [==============================] - 5s 248us/step - loss: 0.0905 - acc: 0.9758\n",
      "Epoch 55/100\n",
      "19579/19579 [==============================] - 5s 250us/step - loss: 0.0890 - acc: 0.9747\n",
      "Epoch 56/100\n",
      "19579/19579 [==============================] - 5s 252us/step - loss: 0.0868 - acc: 0.9765\n",
      "Epoch 57/100\n",
      "19579/19579 [==============================] - 5s 253us/step - loss: 0.0832 - acc: 0.9777\n",
      "Epoch 58/100\n",
      "19579/19579 [==============================] - 5s 255us/step - loss: 0.0824 - acc: 0.9776\n",
      "Epoch 59/100\n",
      "19579/19579 [==============================] - 5s 240us/step - loss: 0.0797 - acc: 0.9790\n",
      "Epoch 60/100\n",
      "19579/19579 [==============================] - 5s 245us/step - loss: 0.0772 - acc: 0.9788\n",
      "Epoch 61/100\n",
      "19579/19579 [==============================] - 5s 260us/step - loss: 0.0757 - acc: 0.9799\n",
      "Epoch 62/100\n",
      "19579/19579 [==============================] - 5s 243us/step - loss: 0.0748 - acc: 0.9797\n",
      "Epoch 63/100\n",
      "19579/19579 [==============================] - 5s 234us/step - loss: 0.0719 - acc: 0.9818\n",
      "Epoch 64/100\n",
      "19579/19579 [==============================] - 5s 235us/step - loss: 0.0702 - acc: 0.9810\n",
      "Epoch 65/100\n",
      "19579/19579 [==============================] - 5s 239us/step - loss: 0.0681 - acc: 0.9820\n",
      "Epoch 66/100\n",
      "19579/19579 [==============================] - 5s 245us/step - loss: 0.0672 - acc: 0.9814\n",
      "Epoch 67/100\n",
      "19579/19579 [==============================] - 5s 254us/step - loss: 0.0659 - acc: 0.9821\n",
      "Epoch 68/100\n",
      "19579/19579 [==============================] - 5s 253us/step - loss: 0.0637 - acc: 0.9837\n",
      "Epoch 69/100\n",
      "19579/19579 [==============================] - 5s 256us/step - loss: 0.0631 - acc: 0.9835\n",
      "Epoch 70/100\n",
      "19579/19579 [==============================] - 5s 251us/step - loss: 0.0611 - acc: 0.9831\n",
      "Epoch 71/100\n",
      "19579/19579 [==============================] - 5s 248us/step - loss: 0.0600 - acc: 0.9848\n",
      "Epoch 72/100\n",
      "19579/19579 [==============================] - 5s 247us/step - loss: 0.0589 - acc: 0.9841\n",
      "Epoch 73/100\n",
      "19579/19579 [==============================] - 5s 250us/step - loss: 0.0564 - acc: 0.9858\n",
      "Epoch 74/100\n",
      "19579/19579 [==============================] - 5s 249us/step - loss: 0.0557 - acc: 0.9855\n",
      "Epoch 75/100\n",
      "19579/19579 [==============================] - 5s 238us/step - loss: 0.0542 - acc: 0.9856\n",
      "Epoch 76/100\n",
      "19579/19579 [==============================] - 5s 248us/step - loss: 0.0531 - acc: 0.9867\n",
      "Epoch 77/100\n",
      "19579/19579 [==============================] - 5s 249us/step - loss: 0.0519 - acc: 0.9866\n",
      "Epoch 78/100\n",
      "19579/19579 [==============================] - 5s 252us/step - loss: 0.0506 - acc: 0.9869\n",
      "Epoch 79/100\n",
      "19579/19579 [==============================] - 5s 252us/step - loss: 0.0501 - acc: 0.9867\n",
      "Epoch 80/100\n"
     ]
    },
    {
     "name": "stdout",
     "output_type": "stream",
     "text": [
      "19579/19579 [==============================] - 5s 254us/step - loss: 0.0505 - acc: 0.9859\n",
      "Epoch 81/100\n",
      "19579/19579 [==============================] - 5s 242us/step - loss: 0.0480 - acc: 0.9876\n",
      "Epoch 82/100\n",
      "19579/19579 [==============================] - 5s 241us/step - loss: 0.0474 - acc: 0.9884\n",
      "Epoch 83/100\n",
      "19579/19579 [==============================] - 5s 250us/step - loss: 0.0457 - acc: 0.9878\n",
      "Epoch 84/100\n",
      "19579/19579 [==============================] - 5s 251us/step - loss: 0.0443 - acc: 0.9888\n",
      "Epoch 85/100\n",
      "19579/19579 [==============================] - 5s 252us/step - loss: 0.0433 - acc: 0.9892\n",
      "Epoch 86/100\n",
      "19579/19579 [==============================] - 5s 252us/step - loss: 0.0428 - acc: 0.9895\n",
      "Epoch 87/100\n",
      "19579/19579 [==============================] - 5s 247us/step - loss: 0.0420 - acc: 0.9897\n",
      "Epoch 88/100\n",
      "19579/19579 [==============================] - 5s 248us/step - loss: 0.0409 - acc: 0.9895\n",
      "Epoch 89/100\n",
      "19579/19579 [==============================] - 5s 249us/step - loss: 0.0404 - acc: 0.9893\n",
      "Epoch 90/100\n",
      "19579/19579 [==============================] - 5s 249us/step - loss: 0.0393 - acc: 0.9908\n",
      "Epoch 91/100\n",
      "19579/19579 [==============================] - 5s 245us/step - loss: 0.0386 - acc: 0.9898\n",
      "Epoch 92/100\n",
      "19579/19579 [==============================] - 5s 244us/step - loss: 0.0375 - acc: 0.9910\n",
      "Epoch 93/100\n",
      "19579/19579 [==============================] - 5s 248us/step - loss: 0.0374 - acc: 0.9902\n",
      "Epoch 94/100\n",
      "19579/19579 [==============================] - 5s 246us/step - loss: 0.0362 - acc: 0.9912\n",
      "Epoch 95/100\n",
      "19579/19579 [==============================] - 5s 243us/step - loss: 0.0364 - acc: 0.9903\n",
      "Epoch 96/100\n",
      "19579/19579 [==============================] - 5s 251us/step - loss: 0.0345 - acc: 0.9915\n",
      "Epoch 97/100\n",
      "19579/19579 [==============================] - 5s 248us/step - loss: 0.0343 - acc: 0.9918\n",
      "Epoch 98/100\n",
      "19579/19579 [==============================] - 5s 254us/step - loss: 0.0336 - acc: 0.9917\n",
      "Epoch 99/100\n",
      "19579/19579 [==============================] - 5s 253us/step - loss: 0.0325 - acc: 0.9920\n",
      "Epoch 100/100\n",
      "19579/19579 [==============================] - 5s 252us/step - loss: 0.0321 - acc: 0.9923\n",
      "CPU times: user 13min, sys: 1min 3s, total: 14min 4s\n",
      "Wall time: 8min 4s\n"
     ]
    },
    {
     "data": {
      "text/plain": [
       "<keras.callbacks.History at 0x7fb6493fb6a0>"
      ]
     },
     "execution_count": 75,
     "metadata": {},
     "output_type": "execute_result"
    }
   ],
   "source": [
    "epochs=100\n",
    "%time model.fit(docs_encoded, y, batch_size=128, epochs=epochs, callbacks=[keras.callbacks.EarlyStopping(patience=2, monitor='loss')])"
   ]
  },
  {
   "cell_type": "code",
   "execution_count": null,
   "metadata": {},
   "outputs": [],
   "source": []
  }
 ],
 "metadata": {
  "kernelspec": {
   "display_name": "Python 3",
   "language": "python",
   "name": "python3"
  },
  "language_info": {
   "codemirror_mode": {
    "name": "ipython",
    "version": 3
   },
   "file_extension": ".py",
   "mimetype": "text/x-python",
   "name": "python",
   "nbconvert_exporter": "python",
   "pygments_lexer": "ipython3",
   "version": "3.7.3"
  }
 },
 "nbformat": 4,
 "nbformat_minor": 2
}
