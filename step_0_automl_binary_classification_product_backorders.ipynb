{
 "cells": [
  {
   "cell_type": "markdown",
   "metadata": {},
   "source": [
    "# H2O AutoML Binary Classification Demo\n",
    "\n",
    "This is a [Jupyter](https://jupyter.org/) Notebook. When you execute code within the notebook, the results appear beneath the code. To execute a code chunk, place your cursor on the cell and press *Shift+Enter*. \n",
    "\n",
    "### Start H2O\n",
    "\n",
    "Import the **h2o** Python module and `H2OAutoML` class and initialize a local H2O cluster."
   ]
  },
  {
   "cell_type": "code",
   "execution_count": 1,
   "metadata": {},
   "outputs": [
    {
     "name": "stdout",
     "output_type": "stream",
     "text": [
      "Checking whether there is an H2O instance running at http://localhost:54321 ..... not found.\n",
      "Attempting to start a local H2O server...\n",
      "  Java Version: openjdk version \"11.0.1\" 2018-10-16 LTS; OpenJDK Runtime Environment Zulu11.2+3 (build 11.0.1+13-LTS); OpenJDK 64-Bit Server VM Zulu11.2+3 (build 11.0.1+13-LTS, mixed mode)\n",
      "  Starting server from /home/ec2-user/anaconda3/envs/tensorflow_p36/lib/python3.6/site-packages/h2o/backend/bin/h2o.jar\n",
      "  Ice root: /tmp/tmpa7c4vxmt\n",
      "  JVM stdout: /tmp/tmpa7c4vxmt/h2o_ec2_user_started_from_python.out\n",
      "  JVM stderr: /tmp/tmpa7c4vxmt/h2o_ec2_user_started_from_python.err\n",
      "  Server is running at http://127.0.0.1:54321\n",
      "Connecting to H2O server at http://127.0.0.1:54321 ... successful.\n"
     ]
    },
    {
     "data": {
      "text/html": [
       "<div style=\"overflow:auto\"><table style=\"width:50%\"><tr><td>H2O cluster uptime:</td>\n",
       "<td>02 secs</td></tr>\n",
       "<tr><td>H2O cluster timezone:</td>\n",
       "<td>Etc/UTC</td></tr>\n",
       "<tr><td>H2O data parsing timezone:</td>\n",
       "<td>UTC</td></tr>\n",
       "<tr><td>H2O cluster version:</td>\n",
       "<td>3.26.0.2</td></tr>\n",
       "<tr><td>H2O cluster version age:</td>\n",
       "<td>27 days </td></tr>\n",
       "<tr><td>H2O cluster name:</td>\n",
       "<td>H2O_from_python_ec2_user_k57mcd</td></tr>\n",
       "<tr><td>H2O cluster total nodes:</td>\n",
       "<td>1</td></tr>\n",
       "<tr><td>H2O cluster free memory:</td>\n",
       "<td>988 Mb</td></tr>\n",
       "<tr><td>H2O cluster total cores:</td>\n",
       "<td>2</td></tr>\n",
       "<tr><td>H2O cluster allowed cores:</td>\n",
       "<td>2</td></tr>\n",
       "<tr><td>H2O cluster status:</td>\n",
       "<td>accepting new members, healthy</td></tr>\n",
       "<tr><td>H2O connection url:</td>\n",
       "<td>http://127.0.0.1:54321</td></tr>\n",
       "<tr><td>H2O connection proxy:</td>\n",
       "<td>None</td></tr>\n",
       "<tr><td>H2O internal security:</td>\n",
       "<td>False</td></tr>\n",
       "<tr><td>H2O API Extensions:</td>\n",
       "<td>Amazon S3, XGBoost, Algos, AutoML, Core V3, Core V4</td></tr>\n",
       "<tr><td>Python version:</td>\n",
       "<td>3.6.5 final</td></tr></table></div>"
      ],
      "text/plain": [
       "--------------------------  ---------------------------------------------------\n",
       "H2O cluster uptime:         02 secs\n",
       "H2O cluster timezone:       Etc/UTC\n",
       "H2O data parsing timezone:  UTC\n",
       "H2O cluster version:        3.26.0.2\n",
       "H2O cluster version age:    27 days\n",
       "H2O cluster name:           H2O_from_python_ec2_user_k57mcd\n",
       "H2O cluster total nodes:    1\n",
       "H2O cluster free memory:    988 Mb\n",
       "H2O cluster total cores:    2\n",
       "H2O cluster allowed cores:  2\n",
       "H2O cluster status:         accepting new members, healthy\n",
       "H2O connection url:         http://127.0.0.1:54321\n",
       "H2O connection proxy:\n",
       "H2O internal security:      False\n",
       "H2O API Extensions:         Amazon S3, XGBoost, Algos, AutoML, Core V3, Core V4\n",
       "Python version:             3.6.5 final\n",
       "--------------------------  ---------------------------------------------------"
      ]
     },
     "metadata": {},
     "output_type": "display_data"
    }
   ],
   "source": [
    "import h2o\n",
    "from h2o.automl import H2OAutoML\n",
    "h2o.init()"
   ]
  },
  {
   "cell_type": "markdown",
   "metadata": {},
   "source": [
    "### Load Data\n",
    "\n",
    "For the AutoML binary classification demo, we use a subset of the [Product Backorders](https://www.kaggle.com/tiredgeek/predict-bo-trial/data) dataset.  The goal here is to predict whether or not a product will be put on backorder status, given a number of product metrics such as current inventory, transit time, demand forecasts and prior sales."
   ]
  },
  {
   "cell_type": "code",
   "execution_count": 2,
   "metadata": {},
   "outputs": [
    {
     "name": "stdout",
     "output_type": "stream",
     "text": [
      "Parse progress: |█████████████████████████████████████████████████████████| 100%\n"
     ]
    }
   ],
   "source": [
    "# Use local data file or download from GitHub\n",
    "import os\n",
    "docker_data_path = \"/home/h2o/data/automl/product_backorders.csv\"\n",
    "if os.path.isfile(docker_data_path):\n",
    "  data_path = docker_data_path\n",
    "else:\n",
    "  data_path = \"https://github.com/h2oai/h2o-tutorials/raw/master/h2o-world-2017/automl/data/product_backorders.csv\"\n",
    "\n",
    "\n",
    "# Load data into H2O\n",
    "df = h2o.import_file(data_path)"
   ]
  },
  {
   "cell_type": "markdown",
   "metadata": {},
   "source": [
    "For classification, the response should be encoded as categorical (aka. \"factor\" or \"enum\"). Let's take a look."
   ]
  },
  {
   "cell_type": "code",
   "execution_count": 3,
   "metadata": {},
   "outputs": [
    {
     "name": "stdout",
     "output_type": "stream",
     "text": [
      "Rows:19053\n",
      "Cols:23\n",
      "\n",
      "\n"
     ]
    },
    {
     "data": {
      "text/html": [
       "<table>\n",
       "<thead>\n",
       "<tr><th>       </th><th>sku              </th><th>national_inv      </th><th>lead_time        </th><th>in_transit_qty    </th><th>forecast_3_month  </th><th>forecast_6_month  </th><th>forecast_9_month  </th><th>sales_1_month     </th><th>sales_3_month     </th><th>sales_6_month     </th><th>sales_9_month    </th><th>min_bank         </th><th>potential_issue  </th><th>pieces_past_due   </th><th>perf_6_month_avg  </th><th>perf_12_month_avg  </th><th>local_bo_qty      </th><th>deck_risk  </th><th>oe_constraint  </th><th>ppap_risk  </th><th>stop_auto_buy  </th><th>rev_stop  </th><th>went_on_backorder  </th></tr>\n",
       "</thead>\n",
       "<tbody>\n",
       "<tr><td>type   </td><td>int              </td><td>int               </td><td>int              </td><td>int               </td><td>int               </td><td>int               </td><td>int               </td><td>int               </td><td>int               </td><td>int               </td><td>int              </td><td>int              </td><td>enum             </td><td>int               </td><td>real              </td><td>real               </td><td>int               </td><td>enum       </td><td>enum           </td><td>enum       </td><td>enum           </td><td>enum      </td><td>enum               </td></tr>\n",
       "<tr><td>mins   </td><td>1111620.0        </td><td>-1440.0           </td><td>0.0              </td><td>0.0               </td><td>0.0               </td><td>0.0               </td><td>0.0               </td><td>0.0               </td><td>0.0               </td><td>0.0               </td><td>0.0              </td><td>0.0              </td><td>                 </td><td>0.0               </td><td>-99.0             </td><td>-99.0              </td><td>0.0               </td><td>           </td><td>               </td><td>           </td><td>               </td><td>          </td><td>                   </td></tr>\n",
       "<tr><td>mean   </td><td>2059552.76056264 </td><td>376.36702881436014</td><td>7.706036161335188</td><td>48.272345562378625</td><td>182.91082769117727</td><td>344.739830997743  </td><td>497.79242114102766</td><td>56.11887891670605 </td><td>168.53445651603428</td><td>333.53219965359773</td><td>504.2553928515193</td><td>48.84070750013117</td><td>                 </td><td>2.3114995013908572</td><td>-6.519833622001783</td><td>-6.05393533826694  </td><td>0.8917755734005144</td><td>           </td><td>               </td><td>           </td><td>               </td><td>          </td><td>                   </td></tr>\n",
       "<tr><td>maxs   </td><td>3284775.0        </td><td>730722.0          </td><td>52.0             </td><td>170920.0          </td><td>479808.0          </td><td>967776.0          </td><td>1418208.0         </td><td>186451.0          </td><td>550609.0          </td><td>1136154.0         </td><td>1759152.0        </td><td>85584.0          </td><td>                 </td><td>13824.0           </td><td>1.0               </td><td>1.0                </td><td>1440.0            </td><td>           </td><td>               </td><td>           </td><td>               </td><td>          </td><td>                   </td></tr>\n",
       "<tr><td>sigma  </td><td>663337.6456498688</td><td>7002.071628662688 </td><td>6.778665072124189</td><td>1465.9992102068293</td><td>4304.865591970626 </td><td>8406.062155159243 </td><td>12180.570042918358</td><td>1544.2177775482573</td><td>4581.340080221506 </td><td>9294.566153218986 </td><td>14184.14539565363</td><td>968.7738680675265</td><td>                 </td><td>110.24106014611986</td><td>25.975138766871876</td><td>25.184497150032527 </td><td>23.033345417338797</td><td>           </td><td>               </td><td>           </td><td>               </td><td>          </td><td>                   </td></tr>\n",
       "<tr><td>zeros  </td><td>0                </td><td>1858              </td><td>121              </td><td>15432             </td><td>12118             </td><td>11136             </td><td>10604             </td><td>10278             </td><td>8022              </td><td>6864              </td><td>6231             </td><td>9909             </td><td>                 </td><td>18601             </td><td>474               </td><td>401                </td><td>18585             </td><td>           </td><td>               </td><td>           </td><td>               </td><td>          </td><td>                   </td></tr>\n",
       "<tr><td>missing</td><td>0                </td><td>0                 </td><td>1078             </td><td>0                 </td><td>0                 </td><td>0                 </td><td>0                 </td><td>0                 </td><td>0                 </td><td>0                 </td><td>0                </td><td>0                </td><td>0                </td><td>0                 </td><td>0                 </td><td>0                  </td><td>0                 </td><td>0          </td><td>0              </td><td>0          </td><td>0              </td><td>0         </td><td>0                  </td></tr>\n",
       "<tr><td>0      </td><td>1113121.0        </td><td>0.0               </td><td>8.0              </td><td>1.0               </td><td>6.0               </td><td>6.0               </td><td>6.0               </td><td>0.0               </td><td>4.0               </td><td>9.0               </td><td>12.0             </td><td>0.0              </td><td>No               </td><td>1.0               </td><td>0.9               </td><td>0.89               </td><td>0.0               </td><td>No         </td><td>No             </td><td>No         </td><td>Yes            </td><td>No        </td><td>Yes                </td></tr>\n",
       "<tr><td>1      </td><td>1113268.0        </td><td>0.0               </td><td>8.0              </td><td>0.0               </td><td>2.0               </td><td>3.0               </td><td>4.0               </td><td>1.0               </td><td>2.0               </td><td>3.0               </td><td>3.0              </td><td>0.0              </td><td>No               </td><td>0.0               </td><td>0.96              </td><td>0.97               </td><td>0.0               </td><td>No         </td><td>No             </td><td>No         </td><td>Yes            </td><td>No        </td><td>Yes                </td></tr>\n",
       "<tr><td>2      </td><td>1113874.0        </td><td>20.0              </td><td>2.0              </td><td>0.0               </td><td>45.0              </td><td>99.0              </td><td>153.0             </td><td>16.0              </td><td>42.0              </td><td>80.0              </td><td>111.0            </td><td>10.0             </td><td>No               </td><td>0.0               </td><td>0.81              </td><td>0.88               </td><td>0.0               </td><td>No         </td><td>No             </td><td>No         </td><td>Yes            </td><td>No        </td><td>Yes                </td></tr>\n",
       "<tr><td>3      </td><td>1114222.0        </td><td>0.0               </td><td>8.0              </td><td>0.0               </td><td>9.0               </td><td>14.0              </td><td>21.0              </td><td>5.0               </td><td>17.0              </td><td>36.0              </td><td>43.0             </td><td>0.0              </td><td>No               </td><td>0.0               </td><td>0.96              </td><td>0.98               </td><td>0.0               </td><td>No         </td><td>No             </td><td>No         </td><td>Yes            </td><td>No        </td><td>Yes                </td></tr>\n",
       "<tr><td>4      </td><td>1114823.0        </td><td>0.0               </td><td>12.0             </td><td>0.0               </td><td>31.0              </td><td>31.0              </td><td>31.0              </td><td>7.0               </td><td>15.0              </td><td>33.0              </td><td>47.0             </td><td>2.0              </td><td>No               </td><td>3.0               </td><td>0.98              </td><td>0.98               </td><td>0.0               </td><td>No         </td><td>No             </td><td>No         </td><td>Yes            </td><td>No        </td><td>Yes                </td></tr>\n",
       "<tr><td>5      </td><td>1115453.0        </td><td>55.0              </td><td>8.0              </td><td>0.0               </td><td>216.0             </td><td>360.0             </td><td>492.0             </td><td>30.0              </td><td>108.0             </td><td>275.0             </td><td>340.0            </td><td>51.0             </td><td>No               </td><td>0.0               </td><td>0.0               </td><td>0.0                </td><td>0.0               </td><td>No         </td><td>No             </td><td>Yes        </td><td>Yes            </td><td>No        </td><td>Yes                </td></tr>\n",
       "<tr><td>6      </td><td>1115620.0        </td><td>-34.0             </td><td>8.0              </td><td>0.0               </td><td>120.0             </td><td>240.0             </td><td>240.0             </td><td>83.0              </td><td>122.0             </td><td>144.0             </td><td>165.0            </td><td>33.0             </td><td>No               </td><td>0.0               </td><td>1.0               </td><td>0.97               </td><td>34.0              </td><td>No         </td><td>No             </td><td>No         </td><td>Yes            </td><td>No        </td><td>Yes                </td></tr>\n",
       "<tr><td>7      </td><td>1116446.0        </td><td>4.0               </td><td>9.0              </td><td>0.0               </td><td>43.0              </td><td>67.0              </td><td>115.0             </td><td>5.0               </td><td>22.0              </td><td>40.0              </td><td>58.0             </td><td>4.0              </td><td>No               </td><td>0.0               </td><td>0.69              </td><td>0.68               </td><td>0.0               </td><td>No         </td><td>No             </td><td>No         </td><td>Yes            </td><td>No        </td><td>Yes                </td></tr>\n",
       "<tr><td>8      </td><td>1116834.0        </td><td>2.0               </td><td>8.0              </td><td>0.0               </td><td>4.0               </td><td>6.0               </td><td>9.0               </td><td>1.0               </td><td>5.0               </td><td>6.0               </td><td>9.0              </td><td>2.0              </td><td>No               </td><td>0.0               </td><td>1.0               </td><td>0.95               </td><td>0.0               </td><td>No         </td><td>No             </td><td>No         </td><td>Yes            </td><td>No        </td><td>Yes                </td></tr>\n",
       "<tr><td>9      </td><td>1116868.0        </td><td>-7.0              </td><td>8.0              </td><td>0.0               </td><td>56.0              </td><td>96.0              </td><td>112.0             </td><td>13.0              </td><td>30.0              </td><td>56.0              </td><td>76.0             </td><td>0.0              </td><td>No               </td><td>0.0               </td><td>0.97              </td><td>0.92               </td><td>7.0               </td><td>No         </td><td>No             </td><td>No         </td><td>Yes            </td><td>No        </td><td>Yes                </td></tr>\n",
       "</tbody>\n",
       "</table>"
      ]
     },
     "metadata": {},
     "output_type": "display_data"
    }
   ],
   "source": [
    "df.describe()"
   ]
  },
  {
   "cell_type": "markdown",
   "metadata": {},
   "source": [
    "We will notice that the response column, `\"went_on_backorder\"`, is already encoded as \"enum\", so there's nothing we need to do here.  If it were encoded as a 0/1 \"int\", then we'd have to convert the column as follows:  `df[y] = df[y].asfactor()`\n",
    "\n",
    "\n",
    "Next, let's identify the response & predictor columns by saving them as `x` and `y`.  The `\"sku\"` column is a unique identifier so we'll want to remove that from the set of our predictors."
   ]
  },
  {
   "cell_type": "code",
   "execution_count": 4,
   "metadata": {},
   "outputs": [],
   "source": [
    "y = \"went_on_backorder\"\n",
    "x = df.columns\n",
    "x.remove(y)\n",
    "x.remove(\"sku\")"
   ]
  },
  {
   "cell_type": "markdown",
   "metadata": {},
   "source": [
    "## Run AutoML \n",
    "\n",
    "Run AutoML, stopping after 10 models.  The `max_models` argument specifies the number of individual (or \"base\") models, and does not include the two ensemble models that are trained at the end."
   ]
  },
  {
   "cell_type": "code",
   "execution_count": 5,
   "metadata": {},
   "outputs": [
    {
     "name": "stdout",
     "output_type": "stream",
     "text": [
      "AutoML progress: |████████████████████████████████████████████████████████| 100%\n"
     ]
    }
   ],
   "source": [
    "aml = H2OAutoML(max_models = 10, seed = 1)\n",
    "\n",
    "aml.train(x = x, y = y, training_frame = df)"
   ]
  },
  {
   "cell_type": "markdown",
   "metadata": {},
   "source": [
    "*Note: If you see the following error, it means that you need to install the pandas module.*\n",
    "```\n",
    "H2OTypeError: Argument `python_obj` should be a None | list | tuple | dict | numpy.ndarray | pandas.DataFrame | scipy.sparse.issparse, got H2OTwoDimTable \n",
    "``` "
   ]
  },
  {
   "cell_type": "markdown",
   "metadata": {},
   "source": [
    "## Leaderboard\n",
    "\n",
    "Next, we will view the AutoML Leaderboard.  Since we did not specify a `leaderboard_frame` in the `H2OAutoML.train()` method for scoring and ranking the models, the AutoML leaderboard uses cross-validation metrics to rank the models.  \n",
    "\n",
    "A default performance metric for each machine learning task (binary classification, multiclass classification, regression) is specified internally and the leaderboard will be sorted by that metric.  In the case of binary classification, the default ranking metric is Area Under the ROC Curve (AUC).  In the future, the user will be able to specify any of the H2O metrics so that different metrics can be used to generate rankings on the leaderboard.\n",
    "\n",
    "The leader model is stored at `aml.leader` and the leaderboard is stored at `aml.leaderboard`."
   ]
  },
  {
   "cell_type": "code",
   "execution_count": 6,
   "metadata": {},
   "outputs": [],
   "source": [
    "lb = aml.leaderboard"
   ]
  },
  {
   "cell_type": "markdown",
   "metadata": {},
   "source": [
    "Now we will view a snapshot of the top models.  Here we should see the two Stacked Ensembles at or near the top of the leaderboard.  Stacked Ensembles can almost always outperform a single model."
   ]
  },
  {
   "cell_type": "code",
   "execution_count": 7,
   "metadata": {},
   "outputs": [
    {
     "data": {
      "text/html": [
       "<table>\n",
       "<thead>\n",
       "<tr><th>model_id                                           </th><th style=\"text-align: right;\">     auc</th><th style=\"text-align: right;\">  logloss</th><th style=\"text-align: right;\">  mean_per_class_error</th><th style=\"text-align: right;\">    rmse</th><th style=\"text-align: right;\">      mse</th></tr>\n",
       "</thead>\n",
       "<tbody>\n",
       "<tr><td>StackedEnsemble_AllModels_AutoML_20190823_140327   </td><td style=\"text-align: right;\">0.950398</td><td style=\"text-align: right;\"> 0.181473</td><td style=\"text-align: right;\">              0.15229 </td><td style=\"text-align: right;\">0.227203</td><td style=\"text-align: right;\">0.0516213</td></tr>\n",
       "<tr><td>StackedEnsemble_BestOfFamily_AutoML_20190823_140327</td><td style=\"text-align: right;\">0.950354</td><td style=\"text-align: right;\"> 0.18154 </td><td style=\"text-align: right;\">              0.151115</td><td style=\"text-align: right;\">0.227066</td><td style=\"text-align: right;\">0.0515589</td></tr>\n",
       "<tr><td>XGBoost_1_AutoML_20190823_140327                   </td><td style=\"text-align: right;\">0.949026</td><td style=\"text-align: right;\"> 0.171852</td><td style=\"text-align: right;\">              0.152826</td><td style=\"text-align: right;\">0.224899</td><td style=\"text-align: right;\">0.0505795</td></tr>\n",
       "<tr><td>GBM_4_AutoML_20190823_140327                       </td><td style=\"text-align: right;\">0.948941</td><td style=\"text-align: right;\"> 0.17323 </td><td style=\"text-align: right;\">              0.164059</td><td style=\"text-align: right;\">0.225911</td><td style=\"text-align: right;\">0.0510359</td></tr>\n",
       "<tr><td>XGBoost_3_AutoML_20190823_140327                   </td><td style=\"text-align: right;\">0.948259</td><td style=\"text-align: right;\"> 0.17309 </td><td style=\"text-align: right;\">              0.157407</td><td style=\"text-align: right;\">0.226143</td><td style=\"text-align: right;\">0.0511408</td></tr>\n",
       "<tr><td>XGBoost_2_AutoML_20190823_140327                   </td><td style=\"text-align: right;\">0.947555</td><td style=\"text-align: right;\"> 0.17411 </td><td style=\"text-align: right;\">              0.159768</td><td style=\"text-align: right;\">0.226626</td><td style=\"text-align: right;\">0.0513592</td></tr>\n",
       "<tr><td>GBM_3_AutoML_20190823_140327                       </td><td style=\"text-align: right;\">0.947212</td><td style=\"text-align: right;\"> 0.176003</td><td style=\"text-align: right;\">              0.171788</td><td style=\"text-align: right;\">0.22788 </td><td style=\"text-align: right;\">0.0519294</td></tr>\n",
       "<tr><td>GBM_5_AutoML_20190823_140327                       </td><td style=\"text-align: right;\">0.947088</td><td style=\"text-align: right;\"> 0.17653 </td><td style=\"text-align: right;\">              0.163763</td><td style=\"text-align: right;\">0.229752</td><td style=\"text-align: right;\">0.0527858</td></tr>\n",
       "<tr><td>GBM_2_AutoML_20190823_140327                       </td><td style=\"text-align: right;\">0.944635</td><td style=\"text-align: right;\"> 0.180209</td><td style=\"text-align: right;\">              0.159998</td><td style=\"text-align: right;\">0.230551</td><td style=\"text-align: right;\">0.0531539</td></tr>\n",
       "<tr><td>GBM_1_AutoML_20190823_140327                       </td><td style=\"text-align: right;\">0.941482</td><td style=\"text-align: right;\"> 0.184062</td><td style=\"text-align: right;\">              0.164992</td><td style=\"text-align: right;\">0.232392</td><td style=\"text-align: right;\">0.0540058</td></tr>\n",
       "</tbody>\n",
       "</table>"
      ]
     },
     "metadata": {},
     "output_type": "display_data"
    },
    {
     "data": {
      "text/plain": []
     },
     "execution_count": 7,
     "metadata": {},
     "output_type": "execute_result"
    }
   ],
   "source": [
    "lb.head()"
   ]
  },
  {
   "cell_type": "markdown",
   "metadata": {},
   "source": [
    "To view the entire leaderboard, specify the `rows` argument of the `head()` method as the total number of rows:"
   ]
  },
  {
   "cell_type": "code",
   "execution_count": 8,
   "metadata": {},
   "outputs": [
    {
     "data": {
      "text/html": [
       "<table>\n",
       "<thead>\n",
       "<tr><th>model_id                                           </th><th style=\"text-align: right;\">     auc</th><th style=\"text-align: right;\">  logloss</th><th style=\"text-align: right;\">  mean_per_class_error</th><th style=\"text-align: right;\">    rmse</th><th style=\"text-align: right;\">      mse</th></tr>\n",
       "</thead>\n",
       "<tbody>\n",
       "<tr><td>StackedEnsemble_AllModels_AutoML_20190823_140327   </td><td style=\"text-align: right;\">0.950398</td><td style=\"text-align: right;\"> 0.181473</td><td style=\"text-align: right;\">              0.15229 </td><td style=\"text-align: right;\">0.227203</td><td style=\"text-align: right;\">0.0516213</td></tr>\n",
       "<tr><td>StackedEnsemble_BestOfFamily_AutoML_20190823_140327</td><td style=\"text-align: right;\">0.950354</td><td style=\"text-align: right;\"> 0.18154 </td><td style=\"text-align: right;\">              0.151115</td><td style=\"text-align: right;\">0.227066</td><td style=\"text-align: right;\">0.0515589</td></tr>\n",
       "<tr><td>XGBoost_1_AutoML_20190823_140327                   </td><td style=\"text-align: right;\">0.949026</td><td style=\"text-align: right;\"> 0.171852</td><td style=\"text-align: right;\">              0.152826</td><td style=\"text-align: right;\">0.224899</td><td style=\"text-align: right;\">0.0505795</td></tr>\n",
       "<tr><td>GBM_4_AutoML_20190823_140327                       </td><td style=\"text-align: right;\">0.948941</td><td style=\"text-align: right;\"> 0.17323 </td><td style=\"text-align: right;\">              0.164059</td><td style=\"text-align: right;\">0.225911</td><td style=\"text-align: right;\">0.0510359</td></tr>\n",
       "<tr><td>XGBoost_3_AutoML_20190823_140327                   </td><td style=\"text-align: right;\">0.948259</td><td style=\"text-align: right;\"> 0.17309 </td><td style=\"text-align: right;\">              0.157407</td><td style=\"text-align: right;\">0.226143</td><td style=\"text-align: right;\">0.0511408</td></tr>\n",
       "<tr><td>XGBoost_2_AutoML_20190823_140327                   </td><td style=\"text-align: right;\">0.947555</td><td style=\"text-align: right;\"> 0.17411 </td><td style=\"text-align: right;\">              0.159768</td><td style=\"text-align: right;\">0.226626</td><td style=\"text-align: right;\">0.0513592</td></tr>\n",
       "<tr><td>GBM_3_AutoML_20190823_140327                       </td><td style=\"text-align: right;\">0.947212</td><td style=\"text-align: right;\"> 0.176003</td><td style=\"text-align: right;\">              0.171788</td><td style=\"text-align: right;\">0.22788 </td><td style=\"text-align: right;\">0.0519294</td></tr>\n",
       "<tr><td>GBM_5_AutoML_20190823_140327                       </td><td style=\"text-align: right;\">0.947088</td><td style=\"text-align: right;\"> 0.17653 </td><td style=\"text-align: right;\">              0.163763</td><td style=\"text-align: right;\">0.229752</td><td style=\"text-align: right;\">0.0527858</td></tr>\n",
       "<tr><td>GBM_2_AutoML_20190823_140327                       </td><td style=\"text-align: right;\">0.944635</td><td style=\"text-align: right;\"> 0.180209</td><td style=\"text-align: right;\">              0.159998</td><td style=\"text-align: right;\">0.230551</td><td style=\"text-align: right;\">0.0531539</td></tr>\n",
       "<tr><td>GBM_1_AutoML_20190823_140327                       </td><td style=\"text-align: right;\">0.941482</td><td style=\"text-align: right;\"> 0.184062</td><td style=\"text-align: right;\">              0.164992</td><td style=\"text-align: right;\">0.232392</td><td style=\"text-align: right;\">0.0540058</td></tr>\n",
       "<tr><td>DRF_1_AutoML_20190823_140327                       </td><td style=\"text-align: right;\">0.934526</td><td style=\"text-align: right;\"> 0.223102</td><td style=\"text-align: right;\">              0.174785</td><td style=\"text-align: right;\">0.255953</td><td style=\"text-align: right;\">0.065512 </td></tr>\n",
       "<tr><td>GLM_grid_1_AutoML_20190823_140327_model_1          </td><td style=\"text-align: right;\">0.741995</td><td style=\"text-align: right;\"> 0.338675</td><td style=\"text-align: right;\">              0.29912 </td><td style=\"text-align: right;\">0.314387</td><td style=\"text-align: right;\">0.0988395</td></tr>\n",
       "</tbody>\n",
       "</table>"
      ]
     },
     "metadata": {},
     "output_type": "display_data"
    },
    {
     "data": {
      "text/plain": []
     },
     "execution_count": 8,
     "metadata": {},
     "output_type": "execute_result"
    }
   ],
   "source": [
    "lb.head(rows=lb.nrows)"
   ]
  },
  {
   "cell_type": "markdown",
   "metadata": {},
   "source": [
    "## Ensemble Exploration\n",
    "\n",
    "To understand how the ensemble works, let's take a peek inside the Stacked Ensemble \"All Models\" model.  The \"All Models\" ensemble is an ensemble of all of the individual models in the AutoML run.  This is often the top performing model on the leaderboard."
   ]
  },
  {
   "cell_type": "code",
   "execution_count": 19,
   "metadata": {},
   "outputs": [],
   "source": [
    "# Get model ids for all models in the AutoML Leaderboard\n",
    "# model_ids = list(aml.leaderboard['model_id'].as_data_frame().iloc[:,0])\n",
    "model_ids = list(aml.leaderboard['model_id'].as_data_frame().iloc[:,0])\n",
    "# Get the \"All Models\" Stacked Ensemble model\n",
    "se = h2o.get_model([mid for mid in model_ids if \"StackedEnsemble_AllModels\" in mid][0])\n",
    "# Get the Stacked Ensemble metalearner model\n",
    "metalearner = h2o.get_model(se.metalearner()['name'])"
   ]
  },
  {
   "cell_type": "markdown",
   "metadata": {},
   "source": [
    "Examine the variable importance of the metalearner (combiner) algorithm in the ensemble.  This shows us how much each base learner is contributing to the ensemble. The AutoML Stacked Ensembles use the default metalearner algorithm (GLM with non-negative weights), so the variable importance of the metalearner is actually the standardized coefficient magnitudes of the GLM. "
   ]
  },
  {
   "cell_type": "code",
   "execution_count": 20,
   "metadata": {},
   "outputs": [
    {
     "data": {
      "text/plain": [
       "{'Intercept': -2.952886720930613,\n",
       " 'XGBoost_1_AutoML_20190823_140327': 0.5365333824034139,\n",
       " 'GBM_4_AutoML_20190823_140327': 0.2663711085854554,\n",
       " 'XGBoost_3_AutoML_20190823_140327': 0.32970479740659075,\n",
       " 'XGBoost_2_AutoML_20190823_140327': 0.0,\n",
       " 'GBM_3_AutoML_20190823_140327': 0.04440940132266224,\n",
       " 'GBM_5_AutoML_20190823_140327': 0.020815073511724562,\n",
       " 'GBM_2_AutoML_20190823_140327': 0.0,\n",
       " 'GBM_1_AutoML_20190823_140327': 0.0,\n",
       " 'DRF_1_AutoML_20190823_140327': 0.5898442009784466,\n",
       " 'GLM_grid_1_AutoML_20190823_140327_model_1': 0.06539094819024745}"
      ]
     },
     "execution_count": 20,
     "metadata": {},
     "output_type": "execute_result"
    }
   ],
   "source": [
    "metalearner.coef_norm()"
   ]
  },
  {
   "cell_type": "markdown",
   "metadata": {},
   "source": [
    "We can also plot the base learner contributions to the ensemble."
   ]
  },
  {
   "cell_type": "code",
   "execution_count": 21,
   "metadata": {},
   "outputs": [
    {
     "name": "stderr",
     "output_type": "stream",
     "text": [
      "/home/ec2-user/anaconda3/envs/tensorflow_p36/lib/python3.6/site-packages/matplotlib/cbook/__init__.py:424: MatplotlibDeprecationWarning: \n",
      "Passing one of 'on', 'true', 'off', 'false' as a boolean is deprecated; use an actual boolean (True/False) instead.\n",
      "  warn_deprecated(\"2.2\", \"Passing one of 'on', 'true', 'off', 'false' as a \"\n"
     ]
    },
    {
     "data": {
      "image/png": "[encoded data removed]",
      "text/plain": [
       "<Figure size 1008x720 with 1 Axes>"
      ]
     },
     "metadata": {},
     "output_type": "display_data"
    }
   ],
   "source": [
    "%matplotlib inline\n",
    "metalearner.std_coef_plot()"
   ]
  },
  {
   "cell_type": "markdown",
   "metadata": {},
   "source": [
    "## Save Leader Model\n",
    "\n",
    "There are two ways to save the leader model -- binary format and MOJO format.  If you're taking your leader model to production, then we'd suggest the MOJO format since it's optimized for production use."
   ]
  },
  {
   "cell_type": "code",
   "execution_count": 13,
   "metadata": {},
   "outputs": [
    {
     "data": {
      "text/plain": [
       "'/newvolume/workspaces/kaggle_case_study_author_identification/product_backorders_model_bin/StackedEnsemble_AllModels_AutoML_20190823_140327'"
      ]
     },
     "execution_count": 13,
     "metadata": {},
     "output_type": "execute_result"
    }
   ],
   "source": [
    "h2o.save_model(aml.leader, path = \"./product_backorders_model_bin\")"
   ]
  },
  {
   "cell_type": "code",
   "execution_count": 14,
   "metadata": {},
   "outputs": [
    {
     "data": {
      "text/plain": [
       "'/newvolume/workspaces/kaggle_case_study_author_identification/StackedEnsemble_AllModels_AutoML_20190823_140327.zip'"
      ]
     },
     "execution_count": 14,
     "metadata": {},
     "output_type": "execute_result"
    }
   ],
   "source": [
    "aml.leader.download_mojo(path = \"./\")"
   ]
  },
  {
   "cell_type": "code",
   "execution_count": null,
   "metadata": {},
   "outputs": [],
   "source": []
  }
 ],
 "metadata": {
  "kernelspec": {
   "display_name": "Environment (conda_tensorflow_p36)",
   "language": "python",
   "name": "conda_tensorflow_p36"
  },
  "language_info": {
   "codemirror_mode": {
    "name": "ipython",
    "version": 3
   },
   "file_extension": ".py",
   "mimetype": "text/x-python",
   "name": "python",
   "nbconvert_exporter": "python",
   "pygments_lexer": "ipython3",
   "version": "3.6.5"
  }
 },
 "nbformat": 4,
 "nbformat_minor": 2
}
